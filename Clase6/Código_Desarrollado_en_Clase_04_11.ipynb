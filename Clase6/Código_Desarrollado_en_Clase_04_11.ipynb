{
  "cells": [
    {
      "cell_type": "code",
      "execution_count": null,
      "metadata": {
        "id": "MK1e1kyHbBBF"
      },
      "outputs": [],
      "source": [
        "import pandas as pd\n",
        "import numpy as np"
      ]
    },
    {
      "cell_type": "code",
      "execution_count": null,
      "metadata": {
        "id": "ahQadlwnxpDC"
      },
      "outputs": [],
      "source": [
        "obj = pd.Series([1,2,3,4,5])"
      ]
    },
    {
      "cell_type": "code",
      "execution_count": null,
      "metadata": {
        "id": "6ydwylR8xtGI"
      },
      "outputs": [],
      "source": [
        "obj"
      ]
    },
    {
      "cell_type": "code",
      "execution_count": null,
      "metadata": {
        "id": "2odGPxUaxtqy"
      },
      "outputs": [],
      "source": [
        "type(obj)"
      ]
    },
    {
      "cell_type": "code",
      "execution_count": null,
      "metadata": {
        "id": "150At2_YxxUB"
      },
      "outputs": [],
      "source": [
        "arreglo = np.array([15,19, 20, 25, 16, 10])"
      ]
    },
    {
      "cell_type": "code",
      "execution_count": null,
      "metadata": {
        "id": "zsQ67wCwyfcX"
      },
      "outputs": [],
      "source": [
        "serie = pd.Series(arreglo, index=['Juan',\n",
        "                                  'Maria',\n",
        "                                  'Pedro',\n",
        "                                  'Daniela',\n",
        "                                  'Gustavo',\n",
        "                                  'Rocio'])"
      ]
    },
    {
      "cell_type": "code",
      "execution_count": null,
      "metadata": {
        "id": "iqtGM3KFyr7H"
      },
      "outputs": [],
      "source": [
        "type(serie)"
      ]
    },
    {
      "cell_type": "code",
      "execution_count": null,
      "metadata": {
        "id": "EqqXrsv9yuNY"
      },
      "outputs": [],
      "source": [
        "serie"
      ]
    },
    {
      "cell_type": "code",
      "execution_count": null,
      "metadata": {
        "id": "1jMd5Hkqyu2Y"
      },
      "outputs": [],
      "source": [
        "serie.loc['Juan':'Pedro']"
      ]
    },
    {
      "cell_type": "code",
      "execution_count": null,
      "metadata": {
        "id": "6C0ze99Tyzsn"
      },
      "outputs": [],
      "source": [
        "serie.iloc[0:2]"
      ]
    },
    {
      "cell_type": "code",
      "execution_count": null,
      "metadata": {
        "id": "xB_kUTA4y8nk"
      },
      "outputs": [],
      "source": [
        "mascota = ['perro',\n",
        "           'gato',\n",
        "           'gato',\n",
        "           'perro',\n",
        "           'gato',\n",
        "           'goldfish']\n",
        "\n",
        "dueño = ['Rocio',\n",
        "         'Maria',\n",
        "         'Pedro',\n",
        "         'Daniela',\n",
        "         'Rocio',\n",
        "         'Gustavo']\n",
        "\n"
      ]
    },
    {
      "cell_type": "code",
      "execution_count": null,
      "metadata": {
        "id": "e81cGO25zUo_"
      },
      "outputs": [],
      "source": [
        "serie = pd.Series(mascota, index=dueño)"
      ]
    },
    {
      "cell_type": "code",
      "execution_count": null,
      "metadata": {
        "id": "8hVF3dEmzZWH"
      },
      "outputs": [],
      "source": [
        "serie"
      ]
    },
    {
      "cell_type": "code",
      "execution_count": null,
      "metadata": {
        "id": "rLnYypJGzaFg"
      },
      "outputs": [],
      "source": [
        "serie.loc[serie=='perro']"
      ]
    },
    {
      "cell_type": "code",
      "execution_count": null,
      "metadata": {
        "id": "4KgtUmnDzetv"
      },
      "outputs": [],
      "source": [
        "serie=='perro'"
      ]
    },
    {
      "cell_type": "code",
      "execution_count": null,
      "metadata": {
        "id": "tBn62yZizg-9"
      },
      "outputs": [],
      "source": [
        "serie.loc[(serie=='perro') | (serie=='goldfish')]"
      ]
    },
    {
      "cell_type": "markdown",
      "metadata": {
        "id": "cASptuFlz0mu"
      },
      "source": [
        "### Alineamiento de Índices"
      ]
    },
    {
      "cell_type": "code",
      "execution_count": null,
      "metadata": {
        "id": "jjKC3bI9zyRL"
      },
      "outputs": [],
      "source": [
        "s1 = pd.Series([1,2,3], index=['a', 'b', 'c'])"
      ]
    },
    {
      "cell_type": "code",
      "execution_count": null,
      "metadata": {
        "id": "mldbE9Jjz92d"
      },
      "outputs": [],
      "source": [
        "s1"
      ]
    },
    {
      "cell_type": "code",
      "execution_count": null,
      "metadata": {
        "id": "GtyFbRNfz-H-"
      },
      "outputs": [],
      "source": [
        "s2 = pd.Series([5,6,7], index=['a', 'c', 'd'])"
      ]
    },
    {
      "cell_type": "code",
      "execution_count": null,
      "metadata": {
        "id": "ugq1lkuc0CtT"
      },
      "outputs": [],
      "source": [
        "s2"
      ]
    },
    {
      "cell_type": "code",
      "execution_count": null,
      "metadata": {
        "id": "imq-Lf0w0DJj"
      },
      "outputs": [],
      "source": [
        "s1 + s2"
      ]
    },
    {
      "cell_type": "code",
      "execution_count": null,
      "metadata": {
        "id": "12W9eo9z0LJj"
      },
      "outputs": [],
      "source": [
        "s1.add(s2)"
      ]
    },
    {
      "cell_type": "code",
      "execution_count": null,
      "metadata": {
        "id": "D5B1cx3p0-Pw"
      },
      "outputs": [],
      "source": [
        "s1.add(s2, fill_value=0)"
      ]
    },
    {
      "cell_type": "markdown",
      "metadata": {
        "id": "UwCpTFoq1ZU_"
      },
      "source": [
        "### Dataframes"
      ]
    },
    {
      "cell_type": "code",
      "execution_count": null,
      "metadata": {
        "id": "PjwoHHFi1Ct_"
      },
      "outputs": [],
      "source": [
        "nombres = ['Juan', 'Maria', 'Pedro', 'Daniela']"
      ]
    },
    {
      "cell_type": "code",
      "execution_count": null,
      "metadata": {
        "id": "4MPA1vCK162x"
      },
      "outputs": [],
      "source": [
        "edad = pd.Series([25,30,35,40], index=nombres)"
      ]
    },
    {
      "cell_type": "code",
      "execution_count": null,
      "metadata": {
        "id": "Vxrs8N551_QW"
      },
      "outputs": [],
      "source": [
        "estatura = pd.Series([160,165,170, 175], index=nombres)"
      ]
    },
    {
      "cell_type": "code",
      "execution_count": null,
      "metadata": {
        "id": "5iMjn9E92D4L"
      },
      "outputs": [],
      "source": [
        "sexo = pd.Series(['m', 'f', 'm', 'f'], index=nombres)"
      ]
    },
    {
      "cell_type": "code",
      "execution_count": null,
      "metadata": {
        "id": "gwKw-ZUn2Ixa"
      },
      "outputs": [],
      "source": [
        "df = pd.DataFrame({'edad': edad,\n",
        "                   'estatura': estatura,\n",
        "                   'sexo' : sexo})"
      ]
    },
    {
      "cell_type": "code",
      "execution_count": null,
      "metadata": {
        "id": "DsjaqsAN2RIz"
      },
      "outputs": [],
      "source": [
        "df"
      ]
    },
    {
      "cell_type": "code",
      "execution_count": null,
      "metadata": {
        "id": "6qn7L5uY2RiF"
      },
      "outputs": [],
      "source": [
        "df.index"
      ]
    },
    {
      "cell_type": "code",
      "execution_count": null,
      "metadata": {
        "id": "28ps59BU2sEP"
      },
      "outputs": [],
      "source": [
        "df.columns"
      ]
    },
    {
      "cell_type": "code",
      "execution_count": null,
      "metadata": {
        "id": "t0xtHO4w2uW0"
      },
      "outputs": [],
      "source": [
        "df.values"
      ]
    },
    {
      "cell_type": "code",
      "execution_count": null,
      "metadata": {
        "id": "H_K6MnIi2wGd"
      },
      "outputs": [],
      "source": [
        "df.head(2)"
      ]
    },
    {
      "cell_type": "code",
      "execution_count": null,
      "metadata": {
        "id": "Xpk_d8op21z6"
      },
      "outputs": [],
      "source": [
        "df.tail(2)"
      ]
    },
    {
      "cell_type": "code",
      "execution_count": null,
      "metadata": {
        "id": "6DGly0Z126dX"
      },
      "outputs": [],
      "source": [
        "df.describe()"
      ]
    },
    {
      "cell_type": "code",
      "execution_count": null,
      "metadata": {
        "id": "x5neZpcA291T"
      },
      "outputs": [],
      "source": [
        "df.loc['Maria']"
      ]
    },
    {
      "cell_type": "code",
      "execution_count": null,
      "metadata": {
        "id": "c4Q5mfU_3Dan"
      },
      "outputs": [],
      "source": [
        "df.iloc[0]"
      ]
    },
    {
      "cell_type": "code",
      "execution_count": null,
      "metadata": {
        "id": "PZtJd7y53GI5"
      },
      "outputs": [],
      "source": [
        "df.loc['Maria', 'edad']"
      ]
    },
    {
      "cell_type": "code",
      "execution_count": null,
      "metadata": {
        "id": "cNrEtxBO3LPv"
      },
      "outputs": [],
      "source": [
        "df.loc[:, 'estatura']"
      ]
    },
    {
      "cell_type": "code",
      "execution_count": null,
      "metadata": {
        "id": "xJt-VpiC3RNP"
      },
      "outputs": [],
      "source": [
        "df.loc[df.loc[:, 'edad']<32]"
      ]
    },
    {
      "cell_type": "code",
      "execution_count": null,
      "metadata": {
        "id": "CRwOEJ7L3Whp"
      },
      "outputs": [],
      "source": [
        "df"
      ]
    },
    {
      "cell_type": "code",
      "execution_count": null,
      "metadata": {
        "id": "FajMHKu03kEJ"
      },
      "outputs": [],
      "source": [
        "df = df.reset_index()"
      ]
    },
    {
      "cell_type": "code",
      "execution_count": null,
      "metadata": {
        "id": "QxweB2V53paA"
      },
      "outputs": [],
      "source": [
        "df"
      ]
    },
    {
      "cell_type": "code",
      "execution_count": null,
      "metadata": {
        "id": "WtaGRRwc3pjA"
      },
      "outputs": [],
      "source": [
        "df = df.rename(columns={'index':'nombre'})"
      ]
    },
    {
      "cell_type": "code",
      "execution_count": null,
      "metadata": {
        "id": "RA5jc7Zp3w_y"
      },
      "outputs": [],
      "source": [
        "df"
      ]
    },
    {
      "cell_type": "code",
      "execution_count": null,
      "metadata": {
        "id": "seEruIJl3xXp"
      },
      "outputs": [],
      "source": [
        "df.set_index('edad')"
      ]
    },
    {
      "cell_type": "code",
      "execution_count": null,
      "metadata": {
        "id": "VqZK58Iq321P"
      },
      "outputs": [],
      "source": [
        "df.nombre"
      ]
    },
    {
      "cell_type": "code",
      "execution_count": null,
      "metadata": {
        "id": "JxwdHuin3-4q"
      },
      "outputs": [],
      "source": [
        "df.edad"
      ]
    },
    {
      "cell_type": "code",
      "execution_count": null,
      "metadata": {
        "id": "VxlOatcW3_yc"
      },
      "outputs": [],
      "source": [
        "df.estatura"
      ]
    },
    {
      "cell_type": "code",
      "execution_count": null,
      "metadata": {
        "id": "oKB47VJ04Auh"
      },
      "outputs": [],
      "source": [
        "df['nombre']"
      ]
    },
    {
      "cell_type": "code",
      "execution_count": null,
      "metadata": {
        "id": "p0dqIRyL4EVx"
      },
      "outputs": [],
      "source": [
        "df['edad']"
      ]
    },
    {
      "cell_type": "code",
      "execution_count": null,
      "metadata": {
        "id": "Z5hlcewx4FZe"
      },
      "outputs": [],
      "source": [
        "df['estatura']"
      ]
    },
    {
      "cell_type": "code",
      "execution_count": null,
      "metadata": {
        "id": "neo7a5tB4Gi8"
      },
      "outputs": [],
      "source": [
        "df['estatura_m'] = df.estatura / 100"
      ]
    },
    {
      "cell_type": "code",
      "execution_count": null,
      "metadata": {
        "id": "_gYL7-tJ4QKj"
      },
      "outputs": [],
      "source": [
        "df"
      ]
    },
    {
      "cell_type": "code",
      "execution_count": null,
      "metadata": {
        "id": "As0Bszhz4Qla"
      },
      "outputs": [],
      "source": [
        "del df['estatura']"
      ]
    },
    {
      "cell_type": "code",
      "execution_count": null,
      "metadata": {
        "id": "cawVEcNT4Um1"
      },
      "outputs": [],
      "source": [
        "df"
      ]
    },
    {
      "cell_type": "code",
      "execution_count": null,
      "metadata": {
        "id": "CCLJeth04VAc"
      },
      "outputs": [],
      "source": [
        "df1 = pd.DataFrame(np.ones((2,2)),\n",
        "                   index=['a', 'b'],\n",
        "                   columns=['x','y'])\n",
        "df1"
      ]
    },
    {
      "cell_type": "code",
      "execution_count": null,
      "metadata": {
        "id": "yoM1E8El4knc"
      },
      "outputs": [],
      "source": [
        "df2 = pd.DataFrame(np.ones((2,2)),\n",
        "                   index=['a', 'c'],\n",
        "                   columns=['x','z'])\n",
        "df2"
      ]
    },
    {
      "cell_type": "code",
      "execution_count": null,
      "metadata": {
        "id": "mflve4Re4s6C"
      },
      "outputs": [],
      "source": [
        "df1 + df2"
      ]
    },
    {
      "cell_type": "code",
      "execution_count": null,
      "metadata": {
        "id": "wi1unEQR4t9g"
      },
      "outputs": [],
      "source": [
        "df1.add(df2)"
      ]
    },
    {
      "cell_type": "code",
      "execution_count": null,
      "metadata": {
        "id": "SJ5-ChNN55YU"
      },
      "outputs": [],
      "source": [
        "df1.add(df2, fill_value=0)"
      ]
    },
    {
      "cell_type": "code",
      "execution_count": null,
      "metadata": {
        "id": "cBZBwGq858SL"
      },
      "outputs": [],
      "source": [
        "df3 = df1.add(df2, fill_value=0)"
      ]
    },
    {
      "cell_type": "code",
      "execution_count": null,
      "metadata": {
        "id": "GjHnKvFr6H_g"
      },
      "outputs": [],
      "source": [
        "df3"
      ]
    },
    {
      "cell_type": "code",
      "execution_count": null,
      "metadata": {
        "id": "mXs5p5Eu6IjZ"
      },
      "outputs": [],
      "source": [
        "df3.fillna(0)"
      ]
    },
    {
      "cell_type": "code",
      "execution_count": null,
      "metadata": {
        "id": "3q-r2xK86Kg3"
      },
      "outputs": [],
      "source": [
        "df3.dropna()"
      ]
    },
    {
      "cell_type": "code",
      "execution_count": null,
      "metadata": {
        "id": "1KokuONs6PcY"
      },
      "outputs": [],
      "source": [
        "df3"
      ]
    },
    {
      "cell_type": "markdown",
      "metadata": {
        "id": "6HJKhHW58E0s"
      },
      "source": [
        "### Abalone"
      ]
    },
    {
      "cell_type": "code",
      "execution_count": null,
      "metadata": {
        "id": "gYTcTk-Q6viH"
      },
      "outputs": [],
      "source": [
        "link = 'https://archive.ics.uci.edu/ml/machine-learning-databases/abalone/abalone.data'"
      ]
    },
    {
      "cell_type": "code",
      "execution_count": null,
      "metadata": {
        "id": "66a6Y_u88RYN"
      },
      "outputs": [],
      "source": [
        "df = pd.read_csv(link, header=None)"
      ]
    },
    {
      "cell_type": "code",
      "execution_count": null,
      "metadata": {
        "id": "QXydC-oM8VbO"
      },
      "outputs": [],
      "source": [
        "df"
      ]
    },
    {
      "cell_type": "code",
      "execution_count": null,
      "metadata": {
        "id": "yrTOjELR8Vzu"
      },
      "outputs": [],
      "source": [
        "pd.get_dummies(df)"
      ]
    },
    {
      "cell_type": "code",
      "execution_count": null,
      "metadata": {
        "id": "4d5ALt1Y8nt5"
      },
      "outputs": [],
      "source": [
        "df[1].plot.hist()"
      ]
    },
    {
      "cell_type": "code",
      "execution_count": null,
      "metadata": {
        "id": "aNAAkrFw9hzp"
      },
      "outputs": [],
      "source": [
        "df[1].plot.hist(bins=50)"
      ]
    },
    {
      "cell_type": "code",
      "execution_count": null,
      "metadata": {
        "id": "v_1eBYLo9prh"
      },
      "outputs": [],
      "source": [
        "df.to_csv('data.csv')"
      ]
    },
    {
      "cell_type": "code",
      "execution_count": null,
      "metadata": {
        "id": "8gpi8EyM9yy_"
      },
      "outputs": [],
      "source": [
        "from pandas.plotting import scatter_matrix"
      ]
    },
    {
      "cell_type": "code",
      "execution_count": null,
      "metadata": {
        "id": "O9nVoP4K9-VE"
      },
      "outputs": [],
      "source": [
        "scatter_matrix(df, alpha=0.2, figsize=(6,6), diagonal='kde')"
      ]
    },
    {
      "cell_type": "code",
      "execution_count": null,
      "metadata": {
        "id": "3SZHSsbp-DRw"
      },
      "outputs": [],
      "source": [
        "df.iloc[:,:-1].boxplot()"
      ]
    },
    {
      "cell_type": "code",
      "execution_count": 3,
      "metadata": {
        "id": "mgEQtSoS_dQe"
      },
      "outputs": [
        {
          "data": {
            "text/plain": [
              "26"
            ]
          },
          "execution_count": 3,
          "metadata": {},
          "output_type": "execute_result"
        }
      ],
      "source": [
        "import string\n",
        "len(string.ascii_lowercase)"
      ]
    },
    {
      "cell_type": "code",
      "execution_count": 4,
      "metadata": {},
      "outputs": [
        {
          "data": {
            "text/plain": [
              "'z'"
            ]
          },
          "execution_count": 4,
          "metadata": {},
          "output_type": "execute_result"
        }
      ],
      "source": [
        "string.ascii_lowercase[25]"
      ]
    },
    {
      "cell_type": "code",
      "execution_count": 5,
      "metadata": {},
      "outputs": [],
      "source": [
        "import pandas as pd\n",
        "import string\n",
        "\n",
        "def generar_dataframe(M, N):\n",
        "    # Verificar que N sea menor que 300\n",
        "    if N >= 300:\n",
        "        raise ValueError(\"N debe ser menor que 300.\")\n",
        "\n",
        "    # Generar nombres de columnas\n",
        "    letras = string.ascii_lowercase\n",
        "    nombres_columnas = []\n",
        "    for i in range(N):\n",
        "        if i < 26:\n",
        "            nombres_columnas.append(letras[i])\n",
        "        else:\n",
        "            letras_base = letras[i % 26]\n",
        "            letras_extras = letras[i // 26 - 1]\n",
        "            nombres_columnas.append(letras_extras + letras_base)\n",
        "\n",
        "    # Generar matriz de unos\n",
        "    matriz_unos = [[1]*N for _ in range(M)]\n",
        "\n",
        "    # Crear DataFrame\n",
        "    df = pd.DataFrame(matriz_unos, columns=nombres_columnas)\n",
        "\n",
        "    return df"
      ]
    },
    {
      "cell_type": "code",
      "execution_count": 8,
      "metadata": {},
      "outputs": [],
      "source": [
        "tabla = generar_dataframe(15,56)"
      ]
    },
    {
      "cell_type": "code",
      "execution_count": 9,
      "metadata": {},
      "outputs": [
        {
          "data": {
            "text/html": [
              "<div>\n",
              "<style scoped>\n",
              "    .dataframe tbody tr th:only-of-type {\n",
              "        vertical-align: middle;\n",
              "    }\n",
              "\n",
              "    .dataframe tbody tr th {\n",
              "        vertical-align: top;\n",
              "    }\n",
              "\n",
              "    .dataframe thead th {\n",
              "        text-align: right;\n",
              "    }\n",
              "</style>\n",
              "<table border=\"1\" class=\"dataframe\">\n",
              "  <thead>\n",
              "    <tr style=\"text-align: right;\">\n",
              "      <th></th>\n",
              "      <th>a</th>\n",
              "      <th>b</th>\n",
              "      <th>c</th>\n",
              "      <th>d</th>\n",
              "      <th>e</th>\n",
              "      <th>f</th>\n",
              "      <th>g</th>\n",
              "      <th>h</th>\n",
              "      <th>i</th>\n",
              "      <th>j</th>\n",
              "      <th>...</th>\n",
              "      <th>au</th>\n",
              "      <th>av</th>\n",
              "      <th>aw</th>\n",
              "      <th>ax</th>\n",
              "      <th>ay</th>\n",
              "      <th>az</th>\n",
              "      <th>ba</th>\n",
              "      <th>bb</th>\n",
              "      <th>bc</th>\n",
              "      <th>bd</th>\n",
              "    </tr>\n",
              "  </thead>\n",
              "  <tbody>\n",
              "    <tr>\n",
              "      <th>0</th>\n",
              "      <td>1</td>\n",
              "      <td>1</td>\n",
              "      <td>1</td>\n",
              "      <td>1</td>\n",
              "      <td>1</td>\n",
              "      <td>1</td>\n",
              "      <td>1</td>\n",
              "      <td>1</td>\n",
              "      <td>1</td>\n",
              "      <td>1</td>\n",
              "      <td>...</td>\n",
              "      <td>1</td>\n",
              "      <td>1</td>\n",
              "      <td>1</td>\n",
              "      <td>1</td>\n",
              "      <td>1</td>\n",
              "      <td>1</td>\n",
              "      <td>1</td>\n",
              "      <td>1</td>\n",
              "      <td>1</td>\n",
              "      <td>1</td>\n",
              "    </tr>\n",
              "    <tr>\n",
              "      <th>1</th>\n",
              "      <td>1</td>\n",
              "      <td>1</td>\n",
              "      <td>1</td>\n",
              "      <td>1</td>\n",
              "      <td>1</td>\n",
              "      <td>1</td>\n",
              "      <td>1</td>\n",
              "      <td>1</td>\n",
              "      <td>1</td>\n",
              "      <td>1</td>\n",
              "      <td>...</td>\n",
              "      <td>1</td>\n",
              "      <td>1</td>\n",
              "      <td>1</td>\n",
              "      <td>1</td>\n",
              "      <td>1</td>\n",
              "      <td>1</td>\n",
              "      <td>1</td>\n",
              "      <td>1</td>\n",
              "      <td>1</td>\n",
              "      <td>1</td>\n",
              "    </tr>\n",
              "    <tr>\n",
              "      <th>2</th>\n",
              "      <td>1</td>\n",
              "      <td>1</td>\n",
              "      <td>1</td>\n",
              "      <td>1</td>\n",
              "      <td>1</td>\n",
              "      <td>1</td>\n",
              "      <td>1</td>\n",
              "      <td>1</td>\n",
              "      <td>1</td>\n",
              "      <td>1</td>\n",
              "      <td>...</td>\n",
              "      <td>1</td>\n",
              "      <td>1</td>\n",
              "      <td>1</td>\n",
              "      <td>1</td>\n",
              "      <td>1</td>\n",
              "      <td>1</td>\n",
              "      <td>1</td>\n",
              "      <td>1</td>\n",
              "      <td>1</td>\n",
              "      <td>1</td>\n",
              "    </tr>\n",
              "    <tr>\n",
              "      <th>3</th>\n",
              "      <td>1</td>\n",
              "      <td>1</td>\n",
              "      <td>1</td>\n",
              "      <td>1</td>\n",
              "      <td>1</td>\n",
              "      <td>1</td>\n",
              "      <td>1</td>\n",
              "      <td>1</td>\n",
              "      <td>1</td>\n",
              "      <td>1</td>\n",
              "      <td>...</td>\n",
              "      <td>1</td>\n",
              "      <td>1</td>\n",
              "      <td>1</td>\n",
              "      <td>1</td>\n",
              "      <td>1</td>\n",
              "      <td>1</td>\n",
              "      <td>1</td>\n",
              "      <td>1</td>\n",
              "      <td>1</td>\n",
              "      <td>1</td>\n",
              "    </tr>\n",
              "    <tr>\n",
              "      <th>4</th>\n",
              "      <td>1</td>\n",
              "      <td>1</td>\n",
              "      <td>1</td>\n",
              "      <td>1</td>\n",
              "      <td>1</td>\n",
              "      <td>1</td>\n",
              "      <td>1</td>\n",
              "      <td>1</td>\n",
              "      <td>1</td>\n",
              "      <td>1</td>\n",
              "      <td>...</td>\n",
              "      <td>1</td>\n",
              "      <td>1</td>\n",
              "      <td>1</td>\n",
              "      <td>1</td>\n",
              "      <td>1</td>\n",
              "      <td>1</td>\n",
              "      <td>1</td>\n",
              "      <td>1</td>\n",
              "      <td>1</td>\n",
              "      <td>1</td>\n",
              "    </tr>\n",
              "    <tr>\n",
              "      <th>5</th>\n",
              "      <td>1</td>\n",
              "      <td>1</td>\n",
              "      <td>1</td>\n",
              "      <td>1</td>\n",
              "      <td>1</td>\n",
              "      <td>1</td>\n",
              "      <td>1</td>\n",
              "      <td>1</td>\n",
              "      <td>1</td>\n",
              "      <td>1</td>\n",
              "      <td>...</td>\n",
              "      <td>1</td>\n",
              "      <td>1</td>\n",
              "      <td>1</td>\n",
              "      <td>1</td>\n",
              "      <td>1</td>\n",
              "      <td>1</td>\n",
              "      <td>1</td>\n",
              "      <td>1</td>\n",
              "      <td>1</td>\n",
              "      <td>1</td>\n",
              "    </tr>\n",
              "    <tr>\n",
              "      <th>6</th>\n",
              "      <td>1</td>\n",
              "      <td>1</td>\n",
              "      <td>1</td>\n",
              "      <td>1</td>\n",
              "      <td>1</td>\n",
              "      <td>1</td>\n",
              "      <td>1</td>\n",
              "      <td>1</td>\n",
              "      <td>1</td>\n",
              "      <td>1</td>\n",
              "      <td>...</td>\n",
              "      <td>1</td>\n",
              "      <td>1</td>\n",
              "      <td>1</td>\n",
              "      <td>1</td>\n",
              "      <td>1</td>\n",
              "      <td>1</td>\n",
              "      <td>1</td>\n",
              "      <td>1</td>\n",
              "      <td>1</td>\n",
              "      <td>1</td>\n",
              "    </tr>\n",
              "    <tr>\n",
              "      <th>7</th>\n",
              "      <td>1</td>\n",
              "      <td>1</td>\n",
              "      <td>1</td>\n",
              "      <td>1</td>\n",
              "      <td>1</td>\n",
              "      <td>1</td>\n",
              "      <td>1</td>\n",
              "      <td>1</td>\n",
              "      <td>1</td>\n",
              "      <td>1</td>\n",
              "      <td>...</td>\n",
              "      <td>1</td>\n",
              "      <td>1</td>\n",
              "      <td>1</td>\n",
              "      <td>1</td>\n",
              "      <td>1</td>\n",
              "      <td>1</td>\n",
              "      <td>1</td>\n",
              "      <td>1</td>\n",
              "      <td>1</td>\n",
              "      <td>1</td>\n",
              "    </tr>\n",
              "    <tr>\n",
              "      <th>8</th>\n",
              "      <td>1</td>\n",
              "      <td>1</td>\n",
              "      <td>1</td>\n",
              "      <td>1</td>\n",
              "      <td>1</td>\n",
              "      <td>1</td>\n",
              "      <td>1</td>\n",
              "      <td>1</td>\n",
              "      <td>1</td>\n",
              "      <td>1</td>\n",
              "      <td>...</td>\n",
              "      <td>1</td>\n",
              "      <td>1</td>\n",
              "      <td>1</td>\n",
              "      <td>1</td>\n",
              "      <td>1</td>\n",
              "      <td>1</td>\n",
              "      <td>1</td>\n",
              "      <td>1</td>\n",
              "      <td>1</td>\n",
              "      <td>1</td>\n",
              "    </tr>\n",
              "    <tr>\n",
              "      <th>9</th>\n",
              "      <td>1</td>\n",
              "      <td>1</td>\n",
              "      <td>1</td>\n",
              "      <td>1</td>\n",
              "      <td>1</td>\n",
              "      <td>1</td>\n",
              "      <td>1</td>\n",
              "      <td>1</td>\n",
              "      <td>1</td>\n",
              "      <td>1</td>\n",
              "      <td>...</td>\n",
              "      <td>1</td>\n",
              "      <td>1</td>\n",
              "      <td>1</td>\n",
              "      <td>1</td>\n",
              "      <td>1</td>\n",
              "      <td>1</td>\n",
              "      <td>1</td>\n",
              "      <td>1</td>\n",
              "      <td>1</td>\n",
              "      <td>1</td>\n",
              "    </tr>\n",
              "    <tr>\n",
              "      <th>10</th>\n",
              "      <td>1</td>\n",
              "      <td>1</td>\n",
              "      <td>1</td>\n",
              "      <td>1</td>\n",
              "      <td>1</td>\n",
              "      <td>1</td>\n",
              "      <td>1</td>\n",
              "      <td>1</td>\n",
              "      <td>1</td>\n",
              "      <td>1</td>\n",
              "      <td>...</td>\n",
              "      <td>1</td>\n",
              "      <td>1</td>\n",
              "      <td>1</td>\n",
              "      <td>1</td>\n",
              "      <td>1</td>\n",
              "      <td>1</td>\n",
              "      <td>1</td>\n",
              "      <td>1</td>\n",
              "      <td>1</td>\n",
              "      <td>1</td>\n",
              "    </tr>\n",
              "    <tr>\n",
              "      <th>11</th>\n",
              "      <td>1</td>\n",
              "      <td>1</td>\n",
              "      <td>1</td>\n",
              "      <td>1</td>\n",
              "      <td>1</td>\n",
              "      <td>1</td>\n",
              "      <td>1</td>\n",
              "      <td>1</td>\n",
              "      <td>1</td>\n",
              "      <td>1</td>\n",
              "      <td>...</td>\n",
              "      <td>1</td>\n",
              "      <td>1</td>\n",
              "      <td>1</td>\n",
              "      <td>1</td>\n",
              "      <td>1</td>\n",
              "      <td>1</td>\n",
              "      <td>1</td>\n",
              "      <td>1</td>\n",
              "      <td>1</td>\n",
              "      <td>1</td>\n",
              "    </tr>\n",
              "    <tr>\n",
              "      <th>12</th>\n",
              "      <td>1</td>\n",
              "      <td>1</td>\n",
              "      <td>1</td>\n",
              "      <td>1</td>\n",
              "      <td>1</td>\n",
              "      <td>1</td>\n",
              "      <td>1</td>\n",
              "      <td>1</td>\n",
              "      <td>1</td>\n",
              "      <td>1</td>\n",
              "      <td>...</td>\n",
              "      <td>1</td>\n",
              "      <td>1</td>\n",
              "      <td>1</td>\n",
              "      <td>1</td>\n",
              "      <td>1</td>\n",
              "      <td>1</td>\n",
              "      <td>1</td>\n",
              "      <td>1</td>\n",
              "      <td>1</td>\n",
              "      <td>1</td>\n",
              "    </tr>\n",
              "    <tr>\n",
              "      <th>13</th>\n",
              "      <td>1</td>\n",
              "      <td>1</td>\n",
              "      <td>1</td>\n",
              "      <td>1</td>\n",
              "      <td>1</td>\n",
              "      <td>1</td>\n",
              "      <td>1</td>\n",
              "      <td>1</td>\n",
              "      <td>1</td>\n",
              "      <td>1</td>\n",
              "      <td>...</td>\n",
              "      <td>1</td>\n",
              "      <td>1</td>\n",
              "      <td>1</td>\n",
              "      <td>1</td>\n",
              "      <td>1</td>\n",
              "      <td>1</td>\n",
              "      <td>1</td>\n",
              "      <td>1</td>\n",
              "      <td>1</td>\n",
              "      <td>1</td>\n",
              "    </tr>\n",
              "    <tr>\n",
              "      <th>14</th>\n",
              "      <td>1</td>\n",
              "      <td>1</td>\n",
              "      <td>1</td>\n",
              "      <td>1</td>\n",
              "      <td>1</td>\n",
              "      <td>1</td>\n",
              "      <td>1</td>\n",
              "      <td>1</td>\n",
              "      <td>1</td>\n",
              "      <td>1</td>\n",
              "      <td>...</td>\n",
              "      <td>1</td>\n",
              "      <td>1</td>\n",
              "      <td>1</td>\n",
              "      <td>1</td>\n",
              "      <td>1</td>\n",
              "      <td>1</td>\n",
              "      <td>1</td>\n",
              "      <td>1</td>\n",
              "      <td>1</td>\n",
              "      <td>1</td>\n",
              "    </tr>\n",
              "  </tbody>\n",
              "</table>\n",
              "<p>15 rows × 56 columns</p>\n",
              "</div>"
            ],
            "text/plain": [
              "    a  b  c  d  e  f  g  h  i  j  ...  au  av  aw  ax  ay  az  ba  bb  bc  bd\n",
              "0   1  1  1  1  1  1  1  1  1  1  ...   1   1   1   1   1   1   1   1   1   1\n",
              "1   1  1  1  1  1  1  1  1  1  1  ...   1   1   1   1   1   1   1   1   1   1\n",
              "2   1  1  1  1  1  1  1  1  1  1  ...   1   1   1   1   1   1   1   1   1   1\n",
              "3   1  1  1  1  1  1  1  1  1  1  ...   1   1   1   1   1   1   1   1   1   1\n",
              "4   1  1  1  1  1  1  1  1  1  1  ...   1   1   1   1   1   1   1   1   1   1\n",
              "5   1  1  1  1  1  1  1  1  1  1  ...   1   1   1   1   1   1   1   1   1   1\n",
              "6   1  1  1  1  1  1  1  1  1  1  ...   1   1   1   1   1   1   1   1   1   1\n",
              "7   1  1  1  1  1  1  1  1  1  1  ...   1   1   1   1   1   1   1   1   1   1\n",
              "8   1  1  1  1  1  1  1  1  1  1  ...   1   1   1   1   1   1   1   1   1   1\n",
              "9   1  1  1  1  1  1  1  1  1  1  ...   1   1   1   1   1   1   1   1   1   1\n",
              "10  1  1  1  1  1  1  1  1  1  1  ...   1   1   1   1   1   1   1   1   1   1\n",
              "11  1  1  1  1  1  1  1  1  1  1  ...   1   1   1   1   1   1   1   1   1   1\n",
              "12  1  1  1  1  1  1  1  1  1  1  ...   1   1   1   1   1   1   1   1   1   1\n",
              "13  1  1  1  1  1  1  1  1  1  1  ...   1   1   1   1   1   1   1   1   1   1\n",
              "14  1  1  1  1  1  1  1  1  1  1  ...   1   1   1   1   1   1   1   1   1   1\n",
              "\n",
              "[15 rows x 56 columns]"
            ]
          },
          "execution_count": 9,
          "metadata": {},
          "output_type": "execute_result"
        }
      ],
      "source": [
        "tabla"
      ]
    },
    {
      "cell_type": "code",
      "execution_count": 11,
      "metadata": {},
      "outputs": [],
      "source": [
        "import pandas as pd\n",
        "import string\n",
        "\n",
        "def generar_dataframe(M, N):\n",
        "    # Verificar que N sea menor que 300\n",
        "    if N >= 300:\n",
        "        raise ValueError(\"N debe ser menor que 300.\")\n",
        "\n",
        "    # Generar nombres de columnas\n",
        "    letras = string.ascii_lowercase + 'ñ'\n",
        "    nombres_columnas = []\n",
        "    for i in range(N):\n",
        "        if i < 27:\n",
        "            nombres_columnas.append(letras[i])\n",
        "        else:\n",
        "            letras_base = letras[i % 27]\n",
        "            letras_extras = letras[i // 27 - 1]\n",
        "            nombres_columnas.append(letras_extras + letras_base)\n",
        "\n",
        "    # Generar matriz de unos\n",
        "    matriz_unos = [[1]*N for _ in range(M)]\n",
        "\n",
        "    # Crear DataFrame\n",
        "    df = pd.DataFrame(matriz_unos, columns=nombres_columnas)\n",
        "\n",
        "    return df"
      ]
    },
    {
      "cell_type": "code",
      "execution_count": 12,
      "metadata": {},
      "outputs": [
        {
          "name": "stdout",
          "output_type": "stream",
          "text": [
            "   a  b  c  d  e  f  g  h  i  j  ...  r  s  t  u  v  w  x  y  z  ñ\n",
            "0  1  1  1  1  1  1  1  1  1  1  ...  1  1  1  1  1  1  1  1  1  1\n",
            "1  1  1  1  1  1  1  1  1  1  1  ...  1  1  1  1  1  1  1  1  1  1\n",
            "2  1  1  1  1  1  1  1  1  1  1  ...  1  1  1  1  1  1  1  1  1  1\n",
            "3  1  1  1  1  1  1  1  1  1  1  ...  1  1  1  1  1  1  1  1  1  1\n",
            "4  1  1  1  1  1  1  1  1  1  1  ...  1  1  1  1  1  1  1  1  1  1\n",
            "\n",
            "[5 rows x 27 columns]\n"
          ]
        }
      ],
      "source": [
        "\n",
        "# Ejemplo de uso con M=5 y N=10\n",
        "resultado = generar_dataframe(5, 27)\n",
        "print(resultado)"
      ]
    },
    {
      "cell_type": "code",
      "execution_count": null,
      "metadata": {},
      "outputs": [],
      "source": []
    }
  ],
  "metadata": {
    "colab": {
      "private_outputs": true,
      "provenance": []
    },
    "kernelspec": {
      "display_name": "Python 3",
      "name": "python3"
    },
    "language_info": {
      "codemirror_mode": {
        "name": "ipython",
        "version": 3
      },
      "file_extension": ".py",
      "mimetype": "text/x-python",
      "name": "python",
      "nbconvert_exporter": "python",
      "pygments_lexer": "ipython3",
      "version": "3.10.11"
    }
  },
  "nbformat": 4,
  "nbformat_minor": 0
}
