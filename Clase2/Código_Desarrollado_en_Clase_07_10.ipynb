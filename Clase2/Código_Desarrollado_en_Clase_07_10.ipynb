{
  "cells": [
    {
      "cell_type": "code",
      "execution_count": null,
      "metadata": {
        "id": "-K__xSbzAlwj"
      },
      "outputs": [],
      "source": [
        "for i in range(5):\n",
        "  print(i)"
      ]
    },
    {
      "cell_type": "code",
      "execution_count": null,
      "metadata": {
        "id": "MvqWxNTekMdQ"
      },
      "outputs": [],
      "source": [
        "for i in range(10):\n",
        "  print(i)"
      ]
    },
    {
      "cell_type": "code",
      "execution_count": null,
      "metadata": {
        "id": "mqh3DM37kWjF"
      },
      "outputs": [],
      "source": [
        "for i in range(1,5):\n",
        "  print(i)"
      ]
    },
    {
      "cell_type": "code",
      "execution_count": null,
      "metadata": {
        "id": "2-pUFCE0kmge"
      },
      "outputs": [],
      "source": [
        "for i in range(10, 5, 3):\n",
        "  print(i)"
      ]
    },
    {
      "cell_type": "code",
      "execution_count": null,
      "metadata": {
        "id": "gtyMJOtHlfht"
      },
      "outputs": [],
      "source": [
        "for i in range(10, 4, -3):\n",
        "  print(i)"
      ]
    },
    {
      "cell_type": "code",
      "execution_count": null,
      "metadata": {
        "id": "TK_tIwCilsfl"
      },
      "outputs": [],
      "source": [
        "for i in range(10):\n",
        "  if i == 4:\n",
        "    break\n",
        "  print(i)"
      ]
    },
    {
      "cell_type": "code",
      "execution_count": null,
      "metadata": {
        "id": "OqI7ABhymiKJ"
      },
      "outputs": [],
      "source": [
        "i = 0\n",
        "while i<9:\n",
        "  print(i)\n",
        "  i += 1\n",
        "print(\"fin\")"
      ]
    },
    {
      "cell_type": "code",
      "execution_count": null,
      "metadata": {
        "id": "06GhEWrjnaPP"
      },
      "outputs": [],
      "source": [
        "def es_par(i):\n",
        "  print(\"Dentro de es_par\")\n",
        "  return i%2==0"
      ]
    },
    {
      "cell_type": "code",
      "execution_count": null,
      "metadata": {
        "id": "DK1poe9Bonha"
      },
      "outputs": [],
      "source": [
        "es_par(5)"
      ]
    },
    {
      "cell_type": "code",
      "execution_count": null,
      "metadata": {
        "id": "jTCZzR-Sorqp"
      },
      "outputs": [],
      "source": [
        "es_par(6)"
      ]
    },
    {
      "cell_type": "code",
      "execution_count": null,
      "metadata": {
        "id": "ZUz8h2acovQ3"
      },
      "outputs": [],
      "source": [
        "def f(a,b):\n",
        "  c=a+b\n",
        "  print(c)"
      ]
    },
    {
      "cell_type": "code",
      "execution_count": null,
      "metadata": {
        "id": "aVZ1D994pNbQ"
      },
      "outputs": [],
      "source": [
        "resultado = f(3,2)"
      ]
    },
    {
      "cell_type": "code",
      "execution_count": null,
      "metadata": {
        "id": "biAyu0jdpOn4"
      },
      "outputs": [],
      "source": [
        "type(resultado)"
      ]
    },
    {
      "cell_type": "code",
      "execution_count": null,
      "metadata": {
        "id": "Zkn0rTwjpTsx"
      },
      "outputs": [],
      "source": [
        "print(resultado)"
      ]
    },
    {
      "cell_type": "code",
      "execution_count": null,
      "metadata": {
        "id": "NgGhHGXNpVjk"
      },
      "outputs": [],
      "source": [
        "return"
      ]
    },
    {
      "cell_type": "code",
      "execution_count": null,
      "metadata": {
        "id": "rHRa5xndq6HQ"
      },
      "outputs": [],
      "source": [
        "def f():\n",
        "  print(1)\n",
        "  return\n",
        "  print(2)\n",
        "  return\n",
        "  print(3)\n",
        "  return\n",
        "  print(4)\n",
        "  return\n"
      ]
    },
    {
      "cell_type": "code",
      "execution_count": null,
      "metadata": {
        "id": "s5WszrVDrHKb"
      },
      "outputs": [],
      "source": [
        "f()"
      ]
    },
    {
      "cell_type": "code",
      "execution_count": null,
      "metadata": {
        "id": "Nze2R2JirH00"
      },
      "outputs": [],
      "source": [
        "def f(a,b):\n",
        "  return a+b"
      ]
    },
    {
      "cell_type": "code",
      "execution_count": null,
      "metadata": {
        "id": "3eqfXdfbrWyq"
      },
      "outputs": [],
      "source": [
        "f(1,2) + f(3,4)"
      ]
    },
    {
      "cell_type": "code",
      "execution_count": null,
      "metadata": {
        "id": "wtoMLMovrZSz"
      },
      "outputs": [],
      "source": [
        "f(f(1,2),f(3,4))"
      ]
    },
    {
      "cell_type": "code",
      "execution_count": null,
      "metadata": {
        "id": "8AYKCsl-rb9w"
      },
      "outputs": [],
      "source": [
        "import math"
      ]
    },
    {
      "cell_type": "code",
      "execution_count": null,
      "metadata": {
        "id": "jGLga1Jms0-t"
      },
      "outputs": [],
      "source": [
        "math.sqrt(16)"
      ]
    },
    {
      "cell_type": "code",
      "execution_count": null,
      "metadata": {
        "id": "84G91naYs4UE"
      },
      "outputs": [],
      "source": [
        "import math as m"
      ]
    },
    {
      "cell_type": "code",
      "execution_count": null,
      "metadata": {
        "id": "fK-VQ86xs6qS"
      },
      "outputs": [],
      "source": [
        "m.sqrt(16)"
      ]
    },
    {
      "cell_type": "code",
      "execution_count": null,
      "metadata": {
        "id": "chb-vudEs8yO"
      },
      "outputs": [],
      "source": [
        "from math import sqrt, cos"
      ]
    },
    {
      "cell_type": "code",
      "execution_count": null,
      "metadata": {
        "id": "e-hEFMFutbc8"
      },
      "outputs": [],
      "source": [
        "sqrt(16)"
      ]
    },
    {
      "cell_type": "code",
      "execution_count": null,
      "metadata": {
        "id": "Iu-8YRKStdyU"
      },
      "outputs": [],
      "source": [
        "cos(3.14159)"
      ]
    },
    {
      "cell_type": "code",
      "execution_count": null,
      "metadata": {
        "id": "bmvDt3Mptf3V"
      },
      "outputs": [],
      "source": [
        "from math import *"
      ]
    },
    {
      "cell_type": "code",
      "execution_count": null,
      "metadata": {
        "id": "B49oRCfMtt0q"
      },
      "outputs": [],
      "source": [
        "from math import sqrt, cos"
      ]
    },
    {
      "cell_type": "code",
      "execution_count": null,
      "metadata": {
        "id": "tUTiUZkGtxK_"
      },
      "outputs": [],
      "source": [
        "import math"
      ]
    },
    {
      "cell_type": "code",
      "execution_count": null,
      "metadata": {
        "id": "sXAb3Zwmtzu_"
      },
      "outputs": [],
      "source": []
    },
    {
      "cell_type": "markdown",
      "metadata": {
        "id": "5-6vHceV0Inu"
      },
      "source": [
        "### Lista 1 - Semana 1"
      ]
    },
    {
      "cell_type": "code",
      "execution_count": null,
      "metadata": {
        "id": "szC39pNH1UjY"
      },
      "outputs": [],
      "source": []
    },
    {
      "cell_type": "markdown",
      "metadata": {
        "id": "0z6ff7OX1VdM"
      },
      "source": [
        "### Ejercicio 6"
      ]
    },
    {
      "cell_type": "code",
      "execution_count": null,
      "metadata": {
        "id": "q6KT6xKB0MHw"
      },
      "outputs": [],
      "source": [
        "lista1 = [1, 2, 3]\n",
        "dic1 = {'a': 1, 'b': 2, 'c': 3}\n",
        "\n",
        "print(dic1['a'])\n",
        "print(lista1[0])"
      ]
    },
    {
      "cell_type": "code",
      "execution_count": null,
      "metadata": {
        "id": "LFjCG46n1E56"
      },
      "outputs": [],
      "source": [
        "ref = {0: 'Mono', 1: 'Gallo', 2: 'Perro', 4: 'Rata', 5: 'Buey', 6: 'Tigre', 7: 'Conejo', 8: 'Dragon', 9: 'Serpiente', 10: 'Caballo', 11: 'Cabra'}\n",
        "# ref = ['Mono', 'Gallo', 'Perro', 'Rata', 'Buey', 'Tigre',.....]\n",
        "n = int(input())\n",
        "resto = n % 12\n",
        "print(ref[resto])"
      ]
    },
    {
      "cell_type": "code",
      "execution_count": null,
      "metadata": {
        "id": "CIL063pk2IMZ"
      },
      "outputs": [],
      "source": [
        "# 2020 y 2032 son rata // 2021 y 2033 son Buey\n",
        "\n",
        "2028 % 12"
      ]
    },
    {
      "cell_type": "markdown",
      "metadata": {
        "id": "RBhnI7C8Ckyu"
      },
      "source": [
        "### Lista 2"
      ]
    },
    {
      "cell_type": "markdown",
      "metadata": {
        "id": "HgVGSo53CmI1"
      },
      "source": [
        "##### Ejercicio 1"
      ]
    },
    {
      "cell_type": "code",
      "execution_count": 1,
      "metadata": {
        "id": "NYeAOQK13jxF"
      },
      "outputs": [],
      "source": [
        "x = int(input())\n",
        "minimo  = x\n",
        "maximo = x\n",
        "suma = 0\n",
        "n = 0\n",
        "while x >= 0:\n",
        "  n += 1\n",
        "  suma += x\n",
        "  if x < minimo:\n",
        "    minimo = x\n",
        "  if x > maximo:\n",
        "    maximo = x\n",
        "  x = int(input())\n",
        "\n",
        "if n == 0:\n",
        "  print('No hay datos')\n",
        "else:\n",
        "  print('n={}'.format(n))\n",
        "  print('media={:.2f}'.format(suma/n))\n",
        "  print('min={}'.format(minimo))\n",
        "  print('max={}'.format(maximo))"
      ]
    },
    {
      "cell_type": "markdown",
      "metadata": {
        "id": "7b0vu90nGoTW"
      },
      "source": [
        "##### Ejercicio 4"
      ]
    },
    {
      "cell_type": "code",
      "execution_count": null,
      "metadata": {
        "id": "vlspp9zBEO8w"
      },
      "outputs": [],
      "source": [
        "nombre1 = str(input())\n",
        "nombre2 = str(input())\n",
        "n = int(input())\n",
        "\n",
        "cont1 = 0\n",
        "cont2 = 0\n",
        "\n",
        "for i in range(n):\n",
        "  ganador = str(input())\n",
        "  if ganador == nombre1:\n",
        "    cont1 += 1\n",
        "  elif ganador == nombre2:\n",
        "    cont2 += 1\n",
        "\n",
        "if cont1 > cont2:\n",
        "  print(nombre1)\n",
        "elif cont2 > cont1:\n",
        "  print(nombre2)\n",
        "else:\n",
        "  print('empate')"
      ]
    },
    {
      "cell_type": "code",
      "execution_count": null,
      "metadata": {
        "id": "i_QK0tsRH1rI"
      },
      "outputs": [],
      "source": [
        "nombre1 = 'Pedro'\n",
        "print(nombre1.upper())\n",
        "#nombre1.upper() == 'PEDRO'"
      ]
    },
    {
      "cell_type": "code",
      "execution_count": null,
      "metadata": {
        "id": "bLmi0YgaIfHy"
      },
      "outputs": [],
      "source": [
        "for i in range(5):\n",
        "  print(i)"
      ]
    },
    {
      "cell_type": "code",
      "execution_count": 1,
      "metadata": {
        "id": "QPgNKBEqI3XN"
      },
      "outputs": [
        {
          "name": "stdout",
          "output_type": "stream",
          "text": [
            "3\n",
            "4\n"
          ]
        }
      ],
      "source": [
        "a = 3\n",
        "b = 4\n",
        "\n",
        "for i in range(a,b+1):\n",
        "    print(i)"
      ]
    },
    {
      "cell_type": "code",
      "execution_count": 2,
      "metadata": {},
      "outputs": [
        {
          "ename": "KeyboardInterrupt",
          "evalue": "",
          "output_type": "error",
          "traceback": [
            "\u001b[1;31m---------------------------------------------------------------------------\u001b[0m",
            "\u001b[1;31mKeyboardInterrupt\u001b[0m                         Traceback (most recent call last)",
            "\u001b[1;32mc:\\Users\\Diego\\Desktop\\IA_PUCP\\Python_para_DS\\Clase2\\Código_Desarrollado_en_Clase_07_10.ipynb Cell 46\u001b[0m line \u001b[0;36m1\n\u001b[0;32m     <a href='vscode-notebook-cell:/c%3A/Users/Diego/Desktop/IA_PUCP/Python_para_DS/Clase2/C%C3%B3digo_Desarrollado_en_Clase_07_10.ipynb#X63sZmlsZQ%3D%3D?line=11'>12</a>\u001b[0m \u001b[39m# Buscar el valor de i\u001b[39;00m\n\u001b[0;32m     <a href='vscode-notebook-cell:/c%3A/Users/Diego/Desktop/IA_PUCP/Python_para_DS/Clase2/C%C3%B3digo_Desarrollado_en_Clase_07_10.ipynb#X63sZmlsZQ%3D%3D?line=12'>13</a>\u001b[0m i \u001b[39m=\u001b[39m \u001b[39m0\u001b[39m\n\u001b[1;32m---> <a href='vscode-notebook-cell:/c%3A/Users/Diego/Desktop/IA_PUCP/Python_para_DS/Clase2/C%C3%B3digo_Desarrollado_en_Clase_07_10.ipynb#X63sZmlsZQ%3D%3D?line=13'>14</a>\u001b[0m \u001b[39mwhile\u001b[39;00m calcular_termino_s(i) \u001b[39m!=\u001b[39m valor_deseado:\n\u001b[0;32m     <a href='vscode-notebook-cell:/c%3A/Users/Diego/Desktop/IA_PUCP/Python_para_DS/Clase2/C%C3%B3digo_Desarrollado_en_Clase_07_10.ipynb#X63sZmlsZQ%3D%3D?line=14'>15</a>\u001b[0m     i \u001b[39m+\u001b[39m\u001b[39m=\u001b[39m \u001b[39m1\u001b[39m\n\u001b[0;32m     <a href='vscode-notebook-cell:/c%3A/Users/Diego/Desktop/IA_PUCP/Python_para_DS/Clase2/C%C3%B3digo_Desarrollado_en_Clase_07_10.ipynb#X63sZmlsZQ%3D%3D?line=16'>17</a>\u001b[0m \u001b[39mprint\u001b[39m(\u001b[39mf\u001b[39m\u001b[39m\"\u001b[39m\u001b[39mEl valor de i para obtener \u001b[39m\u001b[39m{\u001b[39;00mvalor_deseado\u001b[39m}\u001b[39;00m\u001b[39m es: \u001b[39m\u001b[39m{\u001b[39;00mi\u001b[39m}\u001b[39;00m\u001b[39m\"\u001b[39m)\n",
            "\u001b[1;32mc:\\Users\\Diego\\Desktop\\IA_PUCP\\Python_para_DS\\Clase2\\Código_Desarrollado_en_Clase_07_10.ipynb Cell 46\u001b[0m line \u001b[0;36m7\n\u001b[0;32m      <a href='vscode-notebook-cell:/c%3A/Users/Diego/Desktop/IA_PUCP/Python_para_DS/Clase2/C%C3%B3digo_Desarrollado_en_Clase_07_10.ipynb#X63sZmlsZQ%3D%3D?line=4'>5</a>\u001b[0m     \u001b[39mreturn\u001b[39;00m \u001b[39m1\u001b[39m\n\u001b[0;32m      <a href='vscode-notebook-cell:/c%3A/Users/Diego/Desktop/IA_PUCP/Python_para_DS/Clase2/C%C3%B3digo_Desarrollado_en_Clase_07_10.ipynb#X63sZmlsZQ%3D%3D?line=5'>6</a>\u001b[0m \u001b[39melse\u001b[39;00m:\n\u001b[1;32m----> <a href='vscode-notebook-cell:/c%3A/Users/Diego/Desktop/IA_PUCP/Python_para_DS/Clase2/C%C3%B3digo_Desarrollado_en_Clase_07_10.ipynb#X63sZmlsZQ%3D%3D?line=6'>7</a>\u001b[0m     \u001b[39mreturn\u001b[39;00m calcular_termino_s(i\u001b[39m-\u001b[39;49m\u001b[39m1\u001b[39;49m) \u001b[39m+\u001b[39m calcular_termino_s(i\u001b[39m-\u001b[39m\u001b[39m2\u001b[39m)\n",
            "\u001b[1;32mc:\\Users\\Diego\\Desktop\\IA_PUCP\\Python_para_DS\\Clase2\\Código_Desarrollado_en_Clase_07_10.ipynb Cell 46\u001b[0m line \u001b[0;36m7\n\u001b[0;32m      <a href='vscode-notebook-cell:/c%3A/Users/Diego/Desktop/IA_PUCP/Python_para_DS/Clase2/C%C3%B3digo_Desarrollado_en_Clase_07_10.ipynb#X63sZmlsZQ%3D%3D?line=4'>5</a>\u001b[0m     \u001b[39mreturn\u001b[39;00m \u001b[39m1\u001b[39m\n\u001b[0;32m      <a href='vscode-notebook-cell:/c%3A/Users/Diego/Desktop/IA_PUCP/Python_para_DS/Clase2/C%C3%B3digo_Desarrollado_en_Clase_07_10.ipynb#X63sZmlsZQ%3D%3D?line=5'>6</a>\u001b[0m \u001b[39melse\u001b[39;00m:\n\u001b[1;32m----> <a href='vscode-notebook-cell:/c%3A/Users/Diego/Desktop/IA_PUCP/Python_para_DS/Clase2/C%C3%B3digo_Desarrollado_en_Clase_07_10.ipynb#X63sZmlsZQ%3D%3D?line=6'>7</a>\u001b[0m     \u001b[39mreturn\u001b[39;00m calcular_termino_s(i\u001b[39m-\u001b[39;49m\u001b[39m1\u001b[39;49m) \u001b[39m+\u001b[39m calcular_termino_s(i\u001b[39m-\u001b[39m\u001b[39m2\u001b[39m)\n",
            "    \u001b[1;31m[... skipping similar frames: calcular_termino_s at line 7 (28 times)]\u001b[0m\n",
            "\u001b[1;32mc:\\Users\\Diego\\Desktop\\IA_PUCP\\Python_para_DS\\Clase2\\Código_Desarrollado_en_Clase_07_10.ipynb Cell 46\u001b[0m line \u001b[0;36m7\n\u001b[0;32m      <a href='vscode-notebook-cell:/c%3A/Users/Diego/Desktop/IA_PUCP/Python_para_DS/Clase2/C%C3%B3digo_Desarrollado_en_Clase_07_10.ipynb#X63sZmlsZQ%3D%3D?line=4'>5</a>\u001b[0m     \u001b[39mreturn\u001b[39;00m \u001b[39m1\u001b[39m\n\u001b[0;32m      <a href='vscode-notebook-cell:/c%3A/Users/Diego/Desktop/IA_PUCP/Python_para_DS/Clase2/C%C3%B3digo_Desarrollado_en_Clase_07_10.ipynb#X63sZmlsZQ%3D%3D?line=5'>6</a>\u001b[0m \u001b[39melse\u001b[39;00m:\n\u001b[1;32m----> <a href='vscode-notebook-cell:/c%3A/Users/Diego/Desktop/IA_PUCP/Python_para_DS/Clase2/C%C3%B3digo_Desarrollado_en_Clase_07_10.ipynb#X63sZmlsZQ%3D%3D?line=6'>7</a>\u001b[0m     \u001b[39mreturn\u001b[39;00m calcular_termino_s(i\u001b[39m-\u001b[39;49m\u001b[39m1\u001b[39;49m) \u001b[39m+\u001b[39m calcular_termino_s(i\u001b[39m-\u001b[39m\u001b[39m2\u001b[39m)\n",
            "\u001b[1;31mKeyboardInterrupt\u001b[0m: "
          ]
        }
      ],
      "source": [
        "def calcular_termino_s(i):\n",
        "    if i == 0:\n",
        "        return 0\n",
        "    elif i == 1:\n",
        "        return 1\n",
        "    else:\n",
        "        return calcular_termino_s(i-1) + calcular_termino_s(i-2)\n",
        "\n",
        "# Valor deseado\n",
        "valor_deseado = 107168651819712326877926895128666735145224\n",
        "\n",
        "# Buscar el valor de i\n",
        "i = 0\n",
        "while calcular_termino_s(i) != valor_deseado:\n",
        "    i += 1\n",
        "\n",
        "print(f\"El valor de i para obtener {valor_deseado} es: {i}\")\n"
      ]
    },
    {
      "cell_type": "code",
      "execution_count": null,
      "metadata": {},
      "outputs": [],
      "source": []
    }
  ],
  "metadata": {
    "colab": {
      "private_outputs": true,
      "provenance": []
    },
    "kernelspec": {
      "display_name": "Python 3",
      "name": "python3"
    },
    "language_info": {
      "codemirror_mode": {
        "name": "ipython",
        "version": 3
      },
      "file_extension": ".py",
      "mimetype": "text/x-python",
      "name": "python",
      "nbconvert_exporter": "python",
      "pygments_lexer": "ipython3",
      "version": "3.10.11"
    }
  },
  "nbformat": 4,
  "nbformat_minor": 0
}
