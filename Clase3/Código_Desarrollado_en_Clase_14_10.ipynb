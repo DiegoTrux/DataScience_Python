{
  "cells": [
    {
      "cell_type": "code",
      "execution_count": null,
      "metadata": {
        "id": "u08bdoqIg0MM"
      },
      "outputs": [],
      "source": [
        "cadena = 'Hola Mundo'\n",
        "print(cadena)"
      ]
    },
    {
      "cell_type": "code",
      "execution_count": null,
      "metadata": {
        "id": "6nIcFXhdmjkw"
      },
      "outputs": [],
      "source": [
        "cadena = \"Hola Mundo\"\n",
        "print(cadena)"
      ]
    },
    {
      "cell_type": "code",
      "execution_count": null,
      "metadata": {
        "id": "7ErHUxsPmmv1"
      },
      "outputs": [],
      "source": [
        "cadena = '''Hola\n",
        "Mundo\n",
        "esta es una cadena\n",
        "multilinea'''\n",
        "print(cadena)"
      ]
    },
    {
      "cell_type": "code",
      "execution_count": null,
      "metadata": {
        "id": "XQLPZbpHmq4K"
      },
      "outputs": [],
      "source": [
        "cadena = \"\"\"Hola\n",
        "Mundo\n",
        "esta es una\n",
        "cadena multilinea\"\"\"\n",
        "print(cadena)"
      ]
    },
    {
      "cell_type": "code",
      "execution_count": null,
      "metadata": {
        "id": "4YdSqsxBmu7o"
      },
      "outputs": [],
      "source": [
        "len(\"Hola Mundo\") #longitud de la cadena"
      ]
    },
    {
      "cell_type": "code",
      "execution_count": null,
      "metadata": {
        "id": "vsr3qsF4m68r"
      },
      "outputs": [],
      "source": [
        "cadena = \"Hola Mundo\""
      ]
    },
    {
      "cell_type": "code",
      "execution_count": null,
      "metadata": {
        "id": "roZzPv6YnFjD"
      },
      "outputs": [],
      "source": [
        "cadena[0]"
      ]
    },
    {
      "cell_type": "code",
      "execution_count": null,
      "metadata": {
        "id": "D3a5SShXnG75"
      },
      "outputs": [],
      "source": [
        "cadena[1]"
      ]
    },
    {
      "cell_type": "code",
      "execution_count": null,
      "metadata": {
        "id": "HEqv_rfdnPdI"
      },
      "outputs": [],
      "source": [
        "cadena[2]"
      ]
    },
    {
      "cell_type": "code",
      "execution_count": null,
      "metadata": {
        "id": "Od9xUjdGnQLO"
      },
      "outputs": [],
      "source": [
        "cadena[-1]"
      ]
    },
    {
      "cell_type": "code",
      "execution_count": null,
      "metadata": {
        "id": "kGjnoq0pnXRk"
      },
      "outputs": [],
      "source": [
        "cadena[-2]"
      ]
    },
    {
      "cell_type": "code",
      "execution_count": null,
      "metadata": {
        "id": "G6m0hjvanZKV"
      },
      "outputs": [],
      "source": [
        "cadena[8]"
      ]
    },
    {
      "cell_type": "code",
      "execution_count": null,
      "metadata": {
        "id": "WJgZAt8cnoAZ"
      },
      "outputs": [],
      "source": [
        "cadena[-2]"
      ]
    },
    {
      "cell_type": "code",
      "execution_count": null,
      "metadata": {
        "id": "R6Jaob_2no_r"
      },
      "outputs": [],
      "source": [
        "cadena[0:5]"
      ]
    },
    {
      "cell_type": "code",
      "execution_count": null,
      "metadata": {
        "id": "gkPUDj7Rn6Qk"
      },
      "outputs": [],
      "source": [
        "cadena[:5]"
      ]
    },
    {
      "cell_type": "code",
      "execution_count": null,
      "metadata": {
        "id": "4sUsBPLhoF9L"
      },
      "outputs": [],
      "source": [
        "cadena[5:]"
      ]
    },
    {
      "cell_type": "code",
      "execution_count": null,
      "metadata": {
        "id": "pvd6WBeooI6T"
      },
      "outputs": [],
      "source": [
        "cadena[-2:]"
      ]
    },
    {
      "cell_type": "code",
      "execution_count": null,
      "metadata": {
        "id": "7I4_c48zoPVJ"
      },
      "outputs": [],
      "source": [
        "cadena[:]"
      ]
    },
    {
      "cell_type": "code",
      "execution_count": null,
      "metadata": {
        "id": "6Bvr-cofoRpU"
      },
      "outputs": [],
      "source": [
        "cadena[::2]"
      ]
    },
    {
      "cell_type": "code",
      "execution_count": null,
      "metadata": {
        "id": "7RkMlSrvoV_r"
      },
      "outputs": [],
      "source": [
        "cadena[1::2]"
      ]
    },
    {
      "cell_type": "code",
      "execution_count": null,
      "metadata": {
        "id": "M-qAUTuooiCN"
      },
      "outputs": [],
      "source": [
        "cadena[::-1]"
      ]
    },
    {
      "cell_type": "code",
      "execution_count": null,
      "metadata": {
        "id": "c15xo1H0o1R0"
      },
      "outputs": [],
      "source": [
        "'a' == 'a'"
      ]
    },
    {
      "cell_type": "code",
      "execution_count": null,
      "metadata": {
        "id": "PUucBHCGo58J"
      },
      "outputs": [],
      "source": [
        "'A' == 'A'"
      ]
    },
    {
      "cell_type": "code",
      "execution_count": null,
      "metadata": {
        "id": "NmCADJkqo754"
      },
      "outputs": [],
      "source": [
        "'a' == 'A'"
      ]
    },
    {
      "cell_type": "code",
      "execution_count": null,
      "metadata": {
        "id": "YCQBpESEo909"
      },
      "outputs": [],
      "source": [
        "cadena = \"Ricardo \"El Tigre\" Gareca\"\n",
        "print(cadena)"
      ]
    },
    {
      "cell_type": "code",
      "execution_count": null,
      "metadata": {
        "id": "W-hiprKvpJpo"
      },
      "outputs": [],
      "source": [
        "cadena = 'Ricardo \"El Tigre\" Gareca'\n",
        "print(cadena)"
      ]
    },
    {
      "cell_type": "code",
      "execution_count": null,
      "metadata": {
        "id": "KEuVnJzHpL40"
      },
      "outputs": [],
      "source": [
        "cadena = \"Ricardo \\\"El Tigre\\\" Gareca\"\n",
        "print(cadena)"
      ]
    },
    {
      "cell_type": "code",
      "execution_count": null,
      "metadata": {
        "id": "Crz3ZwdLqPXX"
      },
      "outputs": [],
      "source": [
        "cad = \"{} {}\".format(\"Hola\", \"Mundo\")\n",
        "print(cad)"
      ]
    },
    {
      "cell_type": "code",
      "execution_count": null,
      "metadata": {
        "id": "ni_HAk5tqXLV"
      },
      "outputs": [],
      "source": [
        "cad = \"{1} {0}\".format(\"Hola\", \"Mundo\")\n",
        "print(cad)"
      ]
    },
    {
      "cell_type": "code",
      "execution_count": null,
      "metadata": {
        "id": "tTU7Q64lqbZ0"
      },
      "outputs": [],
      "source": [
        "cad = \"Hey {nombre}\".format(nombre=\"Juan\")\n",
        "print(cad)"
      ]
    },
    {
      "cell_type": "code",
      "execution_count": null,
      "metadata": {
        "id": "2j_h0Y2oqhr0"
      },
      "outputs": [],
      "source": [
        "cad = \"pi = {0:.2f}\".format(3.14159)\n",
        "print(cad)"
      ]
    },
    {
      "cell_type": "code",
      "execution_count": null,
      "metadata": {
        "id": "zUeJ88nTqsW1"
      },
      "outputs": [],
      "source": [
        "cad = \"pi = {0:.3f}\".format(3.14159)\n",
        "print(cad)"
      ]
    },
    {
      "cell_type": "code",
      "execution_count": null,
      "metadata": {
        "id": "2Ee2ZHe5quRW"
      },
      "outputs": [],
      "source": [
        "cad = \"pi = {0:.4f}\".format(3.14159)\n",
        "print(cad)"
      ]
    },
    {
      "cell_type": "code",
      "execution_count": null,
      "metadata": {
        "id": "4kFJe0w-qvpi"
      },
      "outputs": [],
      "source": [
        "print(\"Hola\" + \"Hola\") #concatenacion"
      ]
    },
    {
      "cell_type": "code",
      "execution_count": null,
      "metadata": {
        "id": "xz7ynpnMq2vO"
      },
      "outputs": [],
      "source": [
        "print(\"Hola\" * 3) #repeticion"
      ]
    },
    {
      "cell_type": "code",
      "execution_count": null,
      "metadata": {
        "id": "vZwb8X15q5V-"
      },
      "outputs": [],
      "source": [
        "print(ord('a'))"
      ]
    },
    {
      "cell_type": "code",
      "execution_count": null,
      "metadata": {
        "id": "MWea8-b1rE0T"
      },
      "outputs": [],
      "source": [
        "print(ord('b'))"
      ]
    },
    {
      "cell_type": "code",
      "execution_count": null,
      "metadata": {
        "id": "Klemle30rAMO"
      },
      "outputs": [],
      "source": [
        "print(ord('A'))"
      ]
    },
    {
      "cell_type": "code",
      "execution_count": null,
      "metadata": {
        "id": "sfmO5FtqrB9m"
      },
      "outputs": [],
      "source": [
        "print(ord('B'))"
      ]
    },
    {
      "cell_type": "code",
      "execution_count": null,
      "metadata": {
        "id": "bzxfb-7arHlm"
      },
      "outputs": [],
      "source": [
        "chr(97)"
      ]
    },
    {
      "cell_type": "code",
      "execution_count": null,
      "metadata": {
        "id": "uFXpfiI4rLt9"
      },
      "outputs": [],
      "source": [
        "chr(98)"
      ]
    },
    {
      "cell_type": "markdown",
      "metadata": {
        "id": "QtV3JQ4msquH"
      },
      "source": [
        "# **Lista de Ejercicios de Programación 03**"
      ]
    },
    {
      "cell_type": "markdown",
      "metadata": {
        "id": "y70SpfgcsheI"
      },
      "source": [
        "Ejercicio 05 - Desarrollando hasta 2:48pm"
      ]
    },
    {
      "cell_type": "code",
      "execution_count": null,
      "metadata": {
        "id": "4rSRi3VprMpP"
      },
      "outputs": [],
      "source": [
        "def palindrome(s):\n",
        "  s = s.replace(\" \", \"\").lower()\n",
        "  return s == s[::-1]"
      ]
    },
    {
      "cell_type": "markdown",
      "metadata": {
        "id": "-M2M84BXw0O9"
      },
      "source": [
        "### Listas"
      ]
    },
    {
      "cell_type": "code",
      "execution_count": null,
      "metadata": {
        "id": "iZkM6cXSw1qJ"
      },
      "outputs": [],
      "source": [
        "lista = [1,2,3,4,5]"
      ]
    },
    {
      "cell_type": "code",
      "execution_count": null,
      "metadata": {
        "id": "NMluxF6hw-zC"
      },
      "outputs": [],
      "source": [
        "type(lista)"
      ]
    },
    {
      "cell_type": "code",
      "execution_count": null,
      "metadata": {
        "id": "WO7S8to_xAi2"
      },
      "outputs": [],
      "source": [
        "lista = []"
      ]
    },
    {
      "cell_type": "code",
      "execution_count": null,
      "metadata": {
        "id": "3mbPA71AxDLs"
      },
      "outputs": [],
      "source": [
        "type(lista)"
      ]
    },
    {
      "cell_type": "code",
      "execution_count": null,
      "metadata": {
        "id": "gEBBiOv8xEKq"
      },
      "outputs": [],
      "source": [
        "lista = [\"Hola\", 2, 3.3, True, None]"
      ]
    },
    {
      "cell_type": "code",
      "execution_count": null,
      "metadata": {
        "id": "Dflik5HsxKsL"
      },
      "outputs": [],
      "source": [
        "lista"
      ]
    },
    {
      "cell_type": "code",
      "execution_count": null,
      "metadata": {
        "id": "7DQ3wEFWxLQ8"
      },
      "outputs": [],
      "source": [
        "len(lista) #longitud"
      ]
    },
    {
      "cell_type": "code",
      "execution_count": null,
      "metadata": {
        "id": "nH_9ebIpxOcE"
      },
      "outputs": [],
      "source": [
        "lista = [100, 101, 102]"
      ]
    },
    {
      "cell_type": "code",
      "execution_count": null,
      "metadata": {
        "id": "flByszSdxRb8"
      },
      "outputs": [],
      "source": [
        "lista[0]"
      ]
    },
    {
      "cell_type": "code",
      "execution_count": null,
      "metadata": {
        "id": "JpxAU7BNxSZ0"
      },
      "outputs": [],
      "source": [
        "lista[1]"
      ]
    },
    {
      "cell_type": "code",
      "execution_count": null,
      "metadata": {
        "id": "eqZGl7gBxS-K"
      },
      "outputs": [],
      "source": [
        "lista[2]"
      ]
    },
    {
      "cell_type": "code",
      "execution_count": null,
      "metadata": {
        "id": "K8H2__ulxT4j"
      },
      "outputs": [],
      "source": [
        "lista[1] = 999"
      ]
    },
    {
      "cell_type": "code",
      "execution_count": null,
      "metadata": {
        "id": "tuRywOwLxZyV"
      },
      "outputs": [],
      "source": [
        "lista"
      ]
    },
    {
      "cell_type": "code",
      "execution_count": null,
      "metadata": {
        "id": "kZLRHM3Exaae"
      },
      "outputs": [],
      "source": [
        "lista[-1]"
      ]
    },
    {
      "cell_type": "code",
      "execution_count": null,
      "metadata": {
        "id": "M0WsymjBxhT3"
      },
      "outputs": [],
      "source": [
        "lista[-2]"
      ]
    },
    {
      "cell_type": "code",
      "execution_count": null,
      "metadata": {
        "id": "38ZX2H7fxiDU"
      },
      "outputs": [],
      "source": [
        "lista = [100,101,102,103,104,105,106]"
      ]
    },
    {
      "cell_type": "code",
      "execution_count": null,
      "metadata": {
        "id": "6ffOW6pKxmyF"
      },
      "outputs": [],
      "source": [
        "lista[0:5]"
      ]
    },
    {
      "cell_type": "code",
      "execution_count": null,
      "metadata": {
        "id": "YQpdD6VpxnuM"
      },
      "outputs": [],
      "source": [
        "lista[:5]"
      ]
    },
    {
      "cell_type": "code",
      "execution_count": null,
      "metadata": {
        "id": "jW7HxqdHxpn1"
      },
      "outputs": [],
      "source": [
        "lista[5:]"
      ]
    },
    {
      "cell_type": "code",
      "execution_count": null,
      "metadata": {
        "id": "xvl2P9WyxrnV"
      },
      "outputs": [],
      "source": [
        "lista[-3:]"
      ]
    },
    {
      "cell_type": "code",
      "execution_count": null,
      "metadata": {
        "id": "rA7c5MYkxumZ"
      },
      "outputs": [],
      "source": [
        "lista[:]"
      ]
    },
    {
      "cell_type": "code",
      "execution_count": null,
      "metadata": {
        "id": "DVSjnA7ZxwyT"
      },
      "outputs": [],
      "source": [
        "lista[::2]"
      ]
    },
    {
      "cell_type": "code",
      "execution_count": null,
      "metadata": {
        "id": "ZIKOXr99xxtU"
      },
      "outputs": [],
      "source": [
        "lista[1::2]"
      ]
    },
    {
      "cell_type": "code",
      "execution_count": null,
      "metadata": {
        "id": "RmxVLEeDx3QO"
      },
      "outputs": [],
      "source": [
        "lista[::3]"
      ]
    },
    {
      "cell_type": "code",
      "execution_count": null,
      "metadata": {
        "id": "BZ3cO8Jrx8PL"
      },
      "outputs": [],
      "source": [
        "lista[::-1]"
      ]
    },
    {
      "cell_type": "code",
      "execution_count": null,
      "metadata": {
        "id": "G2AIMVmbx-HO"
      },
      "outputs": [],
      "source": [
        "[1,2,3] + [4,5]"
      ]
    },
    {
      "cell_type": "code",
      "execution_count": null,
      "metadata": {
        "id": "aNpxXLDLyA9w"
      },
      "outputs": [],
      "source": [
        "[1,2,3] * 3"
      ]
    },
    {
      "cell_type": "code",
      "execution_count": null,
      "metadata": {
        "id": "mTHfUmGdyCvH"
      },
      "outputs": [],
      "source": [
        "lista = [100, 101, 102]\n"
      ]
    },
    {
      "cell_type": "code",
      "execution_count": null,
      "metadata": {
        "id": "lEWQ-JaKyG7g"
      },
      "outputs": [],
      "source": [
        "lista"
      ]
    },
    {
      "cell_type": "code",
      "execution_count": null,
      "metadata": {
        "id": "pZmKgkB5yHN3"
      },
      "outputs": [],
      "source": [
        "lista.append(103)"
      ]
    },
    {
      "cell_type": "code",
      "execution_count": null,
      "metadata": {
        "id": "mjS3ggnWyIP4"
      },
      "outputs": [],
      "source": [
        "lista"
      ]
    },
    {
      "cell_type": "code",
      "execution_count": null,
      "metadata": {
        "id": "tPXwx2-byIy3"
      },
      "outputs": [],
      "source": [
        "lista.append([104,105,106])"
      ]
    },
    {
      "cell_type": "code",
      "execution_count": null,
      "metadata": {
        "id": "lZoWNuMEyN3h"
      },
      "outputs": [],
      "source": [
        "lista"
      ]
    },
    {
      "cell_type": "code",
      "execution_count": null,
      "metadata": {
        "id": "eeqLDCTSyOVg"
      },
      "outputs": [],
      "source": [
        "lista.extend(range(5))"
      ]
    },
    {
      "cell_type": "code",
      "execution_count": null,
      "metadata": {
        "id": "u7Jo7hePyTyR"
      },
      "outputs": [],
      "source": [
        "lista"
      ]
    },
    {
      "cell_type": "code",
      "execution_count": null,
      "metadata": {
        "id": "3BdTRCsbyUPP"
      },
      "outputs": [],
      "source": [
        "lista[4][1]"
      ]
    },
    {
      "cell_type": "code",
      "execution_count": null,
      "metadata": {
        "id": "0VVuwsU1yd8y"
      },
      "outputs": [],
      "source": [
        "lista = [100,101,102]\n",
        "\n",
        "for i in range(len(lista)):\n",
        "  print(lista[i])"
      ]
    },
    {
      "cell_type": "code",
      "execution_count": null,
      "metadata": {
        "id": "SrccMG0wysZU"
      },
      "outputs": [],
      "source": [
        "lista = [100,101,102]\n",
        "\n",
        "for elem in lista:\n",
        "  print(elem)"
      ]
    },
    {
      "cell_type": "code",
      "execution_count": null,
      "metadata": {
        "id": "iISCT_FZyzDU"
      },
      "outputs": [],
      "source": [
        "a = [1,4,3,2]\n",
        "a.sort()\n",
        "print(a)"
      ]
    },
    {
      "cell_type": "code",
      "execution_count": null,
      "metadata": {
        "id": "JzdzkpkDy6gb"
      },
      "outputs": [],
      "source": [
        "a = [1,4,3,2]\n",
        "a.sort(reverse=True)\n",
        "print(a)"
      ]
    },
    {
      "cell_type": "code",
      "execution_count": null,
      "metadata": {
        "id": "26-TteM0y-WE"
      },
      "outputs": [],
      "source": [
        "a = [1,4,3,2]\n",
        "a.sort()\n",
        "print(a[::-1])"
      ]
    },
    {
      "cell_type": "markdown",
      "metadata": {
        "id": "9fZjliNDzJVI"
      },
      "source": [
        "### Tuplas"
      ]
    },
    {
      "cell_type": "code",
      "execution_count": null,
      "metadata": {
        "id": "yAakux4lzA0e"
      },
      "outputs": [],
      "source": [
        "a = (1,2,3)"
      ]
    },
    {
      "cell_type": "code",
      "execution_count": null,
      "metadata": {
        "id": "ujocjxxVzR1c"
      },
      "outputs": [],
      "source": [
        "type(a)"
      ]
    },
    {
      "cell_type": "code",
      "execution_count": null,
      "metadata": {
        "id": "X8BNnIjZzSad"
      },
      "outputs": [],
      "source": [
        "a = 1,2,3"
      ]
    },
    {
      "cell_type": "code",
      "execution_count": null,
      "metadata": {
        "id": "mQ4Oq7cAzUl2"
      },
      "outputs": [],
      "source": [
        "type(a)"
      ]
    },
    {
      "cell_type": "code",
      "execution_count": null,
      "metadata": {
        "id": "r7pAnP8fzVHM"
      },
      "outputs": [],
      "source": [
        "tupla = (100,101,102)"
      ]
    },
    {
      "cell_type": "code",
      "execution_count": null,
      "metadata": {
        "id": "4_mFhoKyzblu"
      },
      "outputs": [],
      "source": [
        "tupla[0]"
      ]
    },
    {
      "cell_type": "code",
      "execution_count": null,
      "metadata": {
        "id": "u1wUzfMgzcMP"
      },
      "outputs": [],
      "source": [
        "tupla[1] = 999 # tupla es inmutable"
      ]
    },
    {
      "cell_type": "code",
      "execution_count": null,
      "metadata": {
        "id": "GxwuHBSnzdZ1"
      },
      "outputs": [],
      "source": [
        "def f(x):\n",
        "  return x**2, x**3"
      ]
    },
    {
      "cell_type": "code",
      "execution_count": null,
      "metadata": {
        "id": "oaMSVfibznc-"
      },
      "outputs": [],
      "source": [
        "type(f(5))"
      ]
    },
    {
      "cell_type": "code",
      "execution_count": null,
      "metadata": {
        "id": "p_W3QiZPzpDw"
      },
      "outputs": [],
      "source": [
        "f(5)"
      ]
    },
    {
      "cell_type": "code",
      "execution_count": null,
      "metadata": {
        "id": "r67RftLpzqCe"
      },
      "outputs": [],
      "source": [
        "a, b = f(5) #desempaquetamiento de tuplas"
      ]
    },
    {
      "cell_type": "code",
      "execution_count": null,
      "metadata": {
        "id": "P-XP8kIkzvnH"
      },
      "outputs": [],
      "source": [
        "a"
      ]
    },
    {
      "cell_type": "code",
      "execution_count": null,
      "metadata": {
        "id": "btNnv7tKzv1J"
      },
      "outputs": [],
      "source": [
        "b"
      ]
    },
    {
      "cell_type": "code",
      "execution_count": null,
      "metadata": {
        "id": "lTLGMiaQzwZn"
      },
      "outputs": [],
      "source": [
        "a, _ = f(6)"
      ]
    },
    {
      "cell_type": "code",
      "execution_count": null,
      "metadata": {
        "id": "fZiqf8eIz0nU"
      },
      "outputs": [],
      "source": [
        "a"
      ]
    },
    {
      "cell_type": "code",
      "execution_count": null,
      "metadata": {
        "id": "df3ehXxbz1DA"
      },
      "outputs": [],
      "source": [
        "b"
      ]
    },
    {
      "cell_type": "code",
      "execution_count": null,
      "metadata": {
        "id": "ITg98dHfz2hH"
      },
      "outputs": [],
      "source": [
        "a, b = 2, 3"
      ]
    },
    {
      "cell_type": "code",
      "execution_count": null,
      "metadata": {
        "id": "jOZ8zzHwz6B0"
      },
      "outputs": [],
      "source": [
        "a"
      ]
    },
    {
      "cell_type": "code",
      "execution_count": null,
      "metadata": {
        "id": "P0dZaW5Xz6Wg"
      },
      "outputs": [],
      "source": [
        "b"
      ]
    },
    {
      "cell_type": "code",
      "execution_count": null,
      "metadata": {
        "id": "dAJ_tgGSz6mB"
      },
      "outputs": [],
      "source": [
        "a = 1\n",
        "b = 2"
      ]
    },
    {
      "cell_type": "code",
      "execution_count": null,
      "metadata": {
        "id": "tjD5TKSZz-dA"
      },
      "outputs": [],
      "source": [
        "a, b = b, a"
      ]
    },
    {
      "cell_type": "code",
      "execution_count": null,
      "metadata": {
        "id": "soShYCkqz_bh"
      },
      "outputs": [],
      "source": [
        "a"
      ]
    },
    {
      "cell_type": "code",
      "execution_count": null,
      "metadata": {
        "id": "kwVAcznpz_wp"
      },
      "outputs": [],
      "source": [
        "b"
      ]
    },
    {
      "cell_type": "markdown",
      "metadata": {
        "id": "FZkpWsMa0MxT"
      },
      "source": [
        "### Diccionarios"
      ]
    },
    {
      "cell_type": "code",
      "execution_count": null,
      "metadata": {
        "id": "Ohgbut_M0ATM"
      },
      "outputs": [],
      "source": [
        "d = {}"
      ]
    },
    {
      "cell_type": "code",
      "execution_count": null,
      "metadata": {
        "id": "0yhljqBE0Xon"
      },
      "outputs": [],
      "source": [
        "type(d)"
      ]
    },
    {
      "cell_type": "code",
      "execution_count": null,
      "metadata": {
        "id": "2XxmzUMB0YFh"
      },
      "outputs": [],
      "source": [
        "aeropuerto = {\"LIM\":\"Lima\" , \"MIA\":\"Miami\"}"
      ]
    },
    {
      "cell_type": "code",
      "execution_count": null,
      "metadata": {
        "id": "wWOGeMJd0cr-"
      },
      "outputs": [],
      "source": [
        "type(aeropuerto)"
      ]
    },
    {
      "cell_type": "code",
      "execution_count": null,
      "metadata": {
        "id": "5S6wi2lq0eBR"
      },
      "outputs": [],
      "source": [
        "aeropuerto[\"LIM\"]"
      ]
    },
    {
      "cell_type": "code",
      "execution_count": null,
      "metadata": {
        "id": "rgPLzFF80pea"
      },
      "outputs": [],
      "source": [
        "aeropuerto[\"GRU\"] = \"Guarulhos\""
      ]
    },
    {
      "cell_type": "code",
      "execution_count": null,
      "metadata": {
        "id": "UZlz94kd0vd0"
      },
      "outputs": [],
      "source": [
        "aeropuerto"
      ]
    },
    {
      "cell_type": "code",
      "execution_count": null,
      "metadata": {
        "id": "b7Ky3LH_0wIz"
      },
      "outputs": [],
      "source": [
        "aeropuerto[\"LIM\"] = \"LIMA\""
      ]
    },
    {
      "cell_type": "code",
      "execution_count": null,
      "metadata": {
        "id": "jsrrg1ZY03pr"
      },
      "outputs": [],
      "source": [
        "aeropuerto"
      ]
    },
    {
      "cell_type": "markdown",
      "metadata": {
        "id": "60ZcPNvk1A4o"
      },
      "source": [
        "### Sets"
      ]
    },
    {
      "cell_type": "code",
      "execution_count": null,
      "metadata": {
        "id": "GeZ03EjY04ec"
      },
      "outputs": [],
      "source": [
        "c1 = set()"
      ]
    },
    {
      "cell_type": "code",
      "execution_count": null,
      "metadata": {
        "id": "pFyTHGt-1Sqt"
      },
      "outputs": [],
      "source": [
        "type(c1)"
      ]
    },
    {
      "cell_type": "code",
      "execution_count": null,
      "metadata": {
        "id": "-tIiGeVq1TKV"
      },
      "outputs": [],
      "source": [
        "c1 = {1,2,3,4}\n",
        "type(c1)"
      ]
    },
    {
      "cell_type": "code",
      "execution_count": null,
      "metadata": {
        "id": "EYMCGhWv1cay"
      },
      "outputs": [],
      "source": [
        "c1 = {1,2,3,4}\n",
        "c2 = {2,4, 5}\n",
        "\n",
        "c1 | c2 #union"
      ]
    },
    {
      "cell_type": "code",
      "execution_count": null,
      "metadata": {
        "id": "UVAxIAFZ10dI"
      },
      "outputs": [],
      "source": [
        "c1 = {1,2,3,4}\n",
        "c2 = {2,4,5}\n",
        "\n",
        "c1 & c2"
      ]
    },
    {
      "cell_type": "code",
      "execution_count": null,
      "metadata": {
        "id": "HQxneVNR2D45"
      },
      "outputs": [],
      "source": [
        "c1 = {1,2,3,4}\n",
        "c2 = {2,4,5}\n",
        "\n",
        "c1 - c2"
      ]
    },
    {
      "cell_type": "code",
      "execution_count": null,
      "metadata": {
        "id": "ROnEtvgj2XfL"
      },
      "outputs": [],
      "source": [
        "c1 = {1,2,3,4}\n",
        "c2 = {2,4,5}\n",
        "\n",
        "c2 - c1"
      ]
    },
    {
      "cell_type": "code",
      "execution_count": null,
      "metadata": {
        "id": "0gvXCFh72ZUh"
      },
      "outputs": [],
      "source": [
        "c1 = {1,2,3,4}\n",
        "\n",
        "1 in c1"
      ]
    },
    {
      "cell_type": "code",
      "execution_count": null,
      "metadata": {
        "id": "Df7jYX192lzT"
      },
      "outputs": [],
      "source": [
        "c1 = {1,2,3,4}\n",
        "\n",
        "1 not in c1"
      ]
    },
    {
      "cell_type": "code",
      "execution_count": null,
      "metadata": {
        "id": "w7woq7v02oT1"
      },
      "outputs": [],
      "source": []
    }
  ],
  "metadata": {
    "colab": {
      "private_outputs": true,
      "provenance": []
    },
    "kernelspec": {
      "display_name": "Python 3",
      "name": "python3"
    },
    "language_info": {
      "name": "python"
    }
  },
  "nbformat": 4,
  "nbformat_minor": 0
}
