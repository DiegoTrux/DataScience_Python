{
  "nbformat": 4,
  "nbformat_minor": 0,
  "metadata": {
    "colab": {
      "private_outputs": true,
      "provenance": []
    },
    "kernelspec": {
      "name": "python3",
      "display_name": "Python 3"
    },
    "language_info": {
      "name": "python"
    }
  },
  "cells": [
    {
      "cell_type": "code",
      "execution_count": null,
      "metadata": {
        "id": "oYv-Yx06mq1q"
      },
      "outputs": [],
      "source": [
        "class Punto():\n",
        "\n",
        "  def __init__(self, x,y):\n",
        "    self.x = x\n",
        "    self.y = y\n",
        "\n",
        "  def distancia(self, p):\n",
        "    return ((self.x-p.x)**2 + (self.y-p.y)**2)**0.5\n"
      ]
    },
    {
      "cell_type": "code",
      "source": [
        "c = Punto(3,4)"
      ],
      "metadata": {
        "id": "l5y7T7h1rvZj"
      },
      "execution_count": null,
      "outputs": []
    },
    {
      "cell_type": "code",
      "source": [
        "type(c)"
      ],
      "metadata": {
        "id": "NneM5Yxprx9J"
      },
      "execution_count": null,
      "outputs": []
    },
    {
      "cell_type": "code",
      "source": [
        "c.x"
      ],
      "metadata": {
        "id": "tEQqtOWrrzN6"
      },
      "execution_count": null,
      "outputs": []
    },
    {
      "cell_type": "code",
      "source": [
        "c.y"
      ],
      "metadata": {
        "id": "lZXR6imdr2E4"
      },
      "execution_count": null,
      "outputs": []
    },
    {
      "cell_type": "code",
      "source": [
        "origen = Punto(0,0)"
      ],
      "metadata": {
        "id": "AXXD6ftGr205"
      },
      "execution_count": null,
      "outputs": []
    },
    {
      "cell_type": "code",
      "source": [
        "origen.x"
      ],
      "metadata": {
        "id": "jz8eDBLtsAAt"
      },
      "execution_count": null,
      "outputs": []
    },
    {
      "cell_type": "code",
      "source": [
        "origen.y"
      ],
      "metadata": {
        "id": "uJEifmu1sA3R"
      },
      "execution_count": null,
      "outputs": []
    },
    {
      "cell_type": "code",
      "source": [
        "c.distancia(origen)"
      ],
      "metadata": {
        "id": "iJ1hWhX-sB-k"
      },
      "execution_count": null,
      "outputs": []
    },
    {
      "cell_type": "code",
      "source": [
        "origen.distancia(c)"
      ],
      "metadata": {
        "id": "mTDPx4vrsdZT"
      },
      "execution_count": null,
      "outputs": []
    },
    {
      "cell_type": "markdown",
      "source": [
        "# **Numpy**"
      ],
      "metadata": {
        "id": "1d9buTJIuubA"
      }
    },
    {
      "cell_type": "code",
      "source": [
        "import numpy as np"
      ],
      "metadata": {
        "id": "aZS20GzUsesS"
      },
      "execution_count": null,
      "outputs": []
    },
    {
      "cell_type": "code",
      "source": [
        "x = np.array([-1.1, 0, 3.6, -7.2])"
      ],
      "metadata": {
        "id": "-GJ6EXSou0JA"
      },
      "execution_count": null,
      "outputs": []
    },
    {
      "cell_type": "code",
      "source": [
        "x"
      ],
      "metadata": {
        "id": "6gCw575Vu-mw"
      },
      "execution_count": null,
      "outputs": []
    },
    {
      "cell_type": "code",
      "source": [
        "type(x)"
      ],
      "metadata": {
        "id": "1BqDEsf3u_Bw"
      },
      "execution_count": null,
      "outputs": []
    },
    {
      "cell_type": "code",
      "source": [
        "x.shape"
      ],
      "metadata": {
        "id": "6a8GALrZvA6a"
      },
      "execution_count": null,
      "outputs": []
    },
    {
      "cell_type": "code",
      "source": [
        "len(x)"
      ],
      "metadata": {
        "id": "mCiUhk7tvfZK"
      },
      "execution_count": null,
      "outputs": []
    },
    {
      "cell_type": "code",
      "source": [
        "x[2]"
      ],
      "metadata": {
        "id": "egDYcehAvhZV"
      },
      "execution_count": null,
      "outputs": []
    },
    {
      "cell_type": "code",
      "source": [
        "np.zeros(5)"
      ],
      "metadata": {
        "id": "bbXi_a57vkkl"
      },
      "execution_count": null,
      "outputs": []
    },
    {
      "cell_type": "code",
      "source": [
        "np.ones(5)"
      ],
      "metadata": {
        "id": "CRGvqJDLvn5T"
      },
      "execution_count": null,
      "outputs": []
    },
    {
      "cell_type": "code",
      "source": [
        "a = np.array([0,7,3])\n",
        "b = np.array([1,2,0])"
      ],
      "metadata": {
        "id": "PiiFb1Invo-u"
      },
      "execution_count": null,
      "outputs": []
    },
    {
      "cell_type": "code",
      "source": [
        "a+b"
      ],
      "metadata": {
        "id": "UjKVqY-1wqCj"
      },
      "execution_count": null,
      "outputs": []
    },
    {
      "cell_type": "code",
      "source": [
        "a-b"
      ],
      "metadata": {
        "id": "UrDClbKqw_bg"
      },
      "execution_count": null,
      "outputs": []
    },
    {
      "cell_type": "code",
      "source": [
        "[0,7,3] + [1,2,0] #operacion: concatenacion"
      ],
      "metadata": {
        "id": "EP0QxSfwwqb8"
      },
      "execution_count": null,
      "outputs": []
    },
    {
      "cell_type": "code",
      "source": [
        "a = np.array([5,1])\n",
        "b = np.array([-1,3])"
      ],
      "metadata": {
        "id": "SOPUCzoDw5J7"
      },
      "execution_count": null,
      "outputs": []
    },
    {
      "cell_type": "code",
      "source": [
        "a+b"
      ],
      "metadata": {
        "id": "FddoMdWDx3jM"
      },
      "execution_count": null,
      "outputs": []
    },
    {
      "cell_type": "code",
      "source": [
        "p = np.array([5,1])\n",
        "q = np.array([1,3])\n",
        "\n",
        "p-q"
      ],
      "metadata": {
        "id": "BgUDlRuYx4Ub"
      },
      "execution_count": null,
      "outputs": []
    },
    {
      "cell_type": "code",
      "source": [
        "beta = -2\n",
        "a = np.array([1,9,6])\n",
        "\n",
        "beta*a"
      ],
      "metadata": {
        "id": "v94DBzwDy4zQ"
      },
      "execution_count": null,
      "outputs": []
    },
    {
      "cell_type": "code",
      "source": [
        "a1 = np.array([4,0])\n",
        "a2 = np.array([2,2])"
      ],
      "metadata": {
        "id": "i4w7OadCz_LH"
      },
      "execution_count": null,
      "outputs": []
    },
    {
      "cell_type": "code",
      "source": [
        "b = 0.75*a1 + 1.5*a2"
      ],
      "metadata": {
        "id": "A1S-rsYA0hLB"
      },
      "execution_count": null,
      "outputs": []
    },
    {
      "cell_type": "code",
      "source": [
        "b"
      ],
      "metadata": {
        "id": "wAnOfrvn0j55"
      },
      "execution_count": null,
      "outputs": []
    },
    {
      "cell_type": "code",
      "source": [
        "a = np.array([-1,2,2])\n",
        "b = np.array([1,0,-3])"
      ],
      "metadata": {
        "id": "sHMDUVqp0nr5"
      },
      "execution_count": null,
      "outputs": []
    },
    {
      "cell_type": "code",
      "source": [
        "np.dot(a,b)"
      ],
      "metadata": {
        "id": "ILdDv6u51GL1"
      },
      "execution_count": null,
      "outputs": []
    },
    {
      "cell_type": "code",
      "source": [
        "a@b"
      ],
      "metadata": {
        "id": "vVmQjRGb1HMB"
      },
      "execution_count": null,
      "outputs": []
    },
    {
      "cell_type": "code",
      "source": [
        "x = np.array([4,3])"
      ],
      "metadata": {
        "id": "1M9RX6wP1J6C"
      },
      "execution_count": null,
      "outputs": []
    },
    {
      "cell_type": "code",
      "source": [
        "np.sqrt(np.dot(x,x))"
      ],
      "metadata": {
        "id": "vSeFr8Sn1z6S"
      },
      "execution_count": null,
      "outputs": []
    },
    {
      "cell_type": "code",
      "source": [
        "np.sqrt(np.sum(x**2))"
      ],
      "metadata": {
        "id": "E6rfSDr-12IR"
      },
      "execution_count": null,
      "outputs": []
    },
    {
      "cell_type": "code",
      "source": [
        "np.linalg.norm(x)"
      ],
      "metadata": {
        "id": "R9J42CLJ15vh"
      },
      "execution_count": null,
      "outputs": []
    },
    {
      "cell_type": "code",
      "source": [
        "B = np.array([[0,1,-2.3,0.1],\n",
        "              [1.3,4,-0.1,0],\n",
        "              [4.1, -1, 0, 1.7]])"
      ],
      "metadata": {
        "id": "JWM1TgpB17PC"
      },
      "execution_count": null,
      "outputs": []
    },
    {
      "cell_type": "code",
      "source": [
        "B"
      ],
      "metadata": {
        "id": "fdzbMq1b3Ckd"
      },
      "execution_count": null,
      "outputs": []
    },
    {
      "cell_type": "code",
      "source": [
        "B.shape"
      ],
      "metadata": {
        "id": "U8EzS_hk3ENO"
      },
      "execution_count": null,
      "outputs": []
    },
    {
      "cell_type": "code",
      "source": [
        "%%timeit\n",
        "B[1,0]"
      ],
      "metadata": {
        "id": "7WER1oAy3O1v"
      },
      "execution_count": null,
      "outputs": []
    },
    {
      "cell_type": "code",
      "source": [
        "%%timeit\n",
        "B[1][0]"
      ],
      "metadata": {
        "id": "RARqv4nT3YVG"
      },
      "execution_count": null,
      "outputs": []
    },
    {
      "cell_type": "code",
      "source": [
        "B = np.array([[0,1,-2.3,0.1],\n",
        "              [1.3,4,-0.1,0],\n",
        "              [4.1, -1, 0, 1.7]])\n",
        "\n",
        "A = np.array([[0,1,-2.3,0.1],\n",
        "              [1.3,4,-0.1,0],\n",
        "              [4.1, -1, 0, 1.8]])"
      ],
      "metadata": {
        "id": "dlR-Jylr3dcs"
      },
      "execution_count": null,
      "outputs": []
    },
    {
      "cell_type": "code",
      "source": [
        "A==B"
      ],
      "metadata": {
        "id": "tRCkRDMZ3wwF"
      },
      "execution_count": null,
      "outputs": []
    },
    {
      "cell_type": "code",
      "source": [
        "np.array_equal(A,B)"
      ],
      "metadata": {
        "id": "5doySDYz3yvU"
      },
      "execution_count": null,
      "outputs": []
    },
    {
      "cell_type": "code",
      "source": [
        "np.zeros((5,5))"
      ],
      "metadata": {
        "id": "WVSqVhud35E1"
      },
      "execution_count": null,
      "outputs": []
    },
    {
      "cell_type": "code",
      "source": [
        "A = np.zeros((1,1))"
      ],
      "metadata": {
        "id": "jCO29WGr4CVY"
      },
      "execution_count": null,
      "outputs": []
    },
    {
      "cell_type": "code",
      "source": [
        "A"
      ],
      "metadata": {
        "id": "9RL4IuLj4bj-"
      },
      "execution_count": null,
      "outputs": []
    },
    {
      "cell_type": "code",
      "source": [
        "A[0,0]"
      ],
      "metadata": {
        "id": "A1x91WvC4b1s"
      },
      "execution_count": null,
      "outputs": []
    },
    {
      "cell_type": "code",
      "source": [
        "B = np.array([[0,1,-2.3,0.1],\n",
        "              [1.3,4,-0.1,0],\n",
        "              [4.1, -1, 0, 1.7]])"
      ],
      "metadata": {
        "id": "rhZG-cDO4dZa"
      },
      "execution_count": null,
      "outputs": []
    },
    {
      "cell_type": "code",
      "source": [
        "B[1,:]"
      ],
      "metadata": {
        "id": "FnurVMTR4k3d"
      },
      "execution_count": null,
      "outputs": []
    },
    {
      "cell_type": "code",
      "source": [
        "B[:,1]"
      ],
      "metadata": {
        "id": "-A2jjq5C4oSI"
      },
      "execution_count": null,
      "outputs": []
    },
    {
      "cell_type": "code",
      "source": [
        "B[1:,1:]"
      ],
      "metadata": {
        "id": "Cpp8OFNE4rbO"
      },
      "execution_count": null,
      "outputs": []
    },
    {
      "cell_type": "code",
      "source": [
        "np.eye(10) # I - matriz identidad"
      ],
      "metadata": {
        "id": "dhoIDApK4xxG"
      },
      "execution_count": null,
      "outputs": []
    },
    {
      "cell_type": "code",
      "source": [
        "B = np.array([[0,1,-2.3,0.1],\n",
        "              [1.3,4,-0.1,0],\n",
        "              [4.1, -1, 0, 1.7]])"
      ],
      "metadata": {
        "id": "Qt421mhZ41a4"
      },
      "execution_count": null,
      "outputs": []
    },
    {
      "cell_type": "code",
      "source": [
        "B"
      ],
      "metadata": {
        "id": "d5ZcZj0e5BfA"
      },
      "execution_count": null,
      "outputs": []
    },
    {
      "cell_type": "code",
      "source": [
        "B.T"
      ],
      "metadata": {
        "id": "xss8Bu2X5Bve"
      },
      "execution_count": null,
      "outputs": []
    },
    {
      "cell_type": "code",
      "source": [
        "B.T.T"
      ],
      "metadata": {
        "id": "0YFWimc15cKy"
      },
      "execution_count": null,
      "outputs": []
    },
    {
      "cell_type": "code",
      "source": [
        "?np.linalg.inv"
      ],
      "metadata": {
        "id": "KBQ-UG075Dh-"
      },
      "execution_count": null,
      "outputs": []
    },
    {
      "cell_type": "code",
      "source": [
        "?np.linalg.pinv"
      ],
      "metadata": {
        "id": "p0XabnSe5T4g"
      },
      "execution_count": null,
      "outputs": []
    },
    {
      "cell_type": "code",
      "source": [
        "np.linalg.norm(B)"
      ],
      "metadata": {
        "id": "pTKUoECs5Ypq"
      },
      "execution_count": null,
      "outputs": []
    },
    {
      "cell_type": "code",
      "source": [
        "np.sqrt(np.sum(B**2))"
      ],
      "metadata": {
        "id": "1HIlnUiJ5upn"
      },
      "execution_count": null,
      "outputs": []
    },
    {
      "cell_type": "code",
      "source": [
        "a = np.array([1,2,3,4,5]) #, dtype=np.uint8)\n",
        "a"
      ],
      "metadata": {
        "id": "jZj_BUaV6KI0"
      },
      "execution_count": null,
      "outputs": []
    },
    {
      "cell_type": "code",
      "source": [
        "a.dtype"
      ],
      "metadata": {
        "id": "yZTHQxES5xYv"
      },
      "execution_count": null,
      "outputs": []
    },
    {
      "cell_type": "code",
      "source": [
        "a.itemsize"
      ],
      "metadata": {
        "id": "gHXfm6eb6VKg"
      },
      "execution_count": null,
      "outputs": []
    },
    {
      "cell_type": "code",
      "source": [
        "a.nbytes"
      ],
      "metadata": {
        "id": "2qvVO3dJ6XaB"
      },
      "execution_count": null,
      "outputs": []
    },
    {
      "cell_type": "code",
      "source": [
        "a = np.random.randn(3,3)\n",
        "a"
      ],
      "metadata": {
        "id": "THWuqst36Z0y"
      },
      "execution_count": null,
      "outputs": []
    },
    {
      "cell_type": "code",
      "source": [
        "b = a[:2, :2] #.copy()"
      ],
      "metadata": {
        "id": "txJSY6It6mmB"
      },
      "execution_count": null,
      "outputs": []
    },
    {
      "cell_type": "code",
      "source": [
        "b"
      ],
      "metadata": {
        "id": "S7igPhLT6tQR"
      },
      "execution_count": null,
      "outputs": []
    },
    {
      "cell_type": "code",
      "source": [
        "a[0,0] = 99"
      ],
      "metadata": {
        "id": "3vkcTfG_6tnZ"
      },
      "execution_count": null,
      "outputs": []
    },
    {
      "cell_type": "code",
      "source": [
        "a"
      ],
      "metadata": {
        "id": "l6-LFTEk6w_C"
      },
      "execution_count": null,
      "outputs": []
    },
    {
      "cell_type": "code",
      "source": [
        "b"
      ],
      "metadata": {
        "id": "gat9AcSf6xS5"
      },
      "execution_count": null,
      "outputs": []
    },
    {
      "cell_type": "code",
      "source": [
        "a = np.random.randint(-10,10, size=(5,5))"
      ],
      "metadata": {
        "id": "bhXAHuo-6ynk"
      },
      "execution_count": null,
      "outputs": []
    },
    {
      "cell_type": "code",
      "source": [
        "a"
      ],
      "metadata": {
        "id": "rrwmVmzg7Kj6"
      },
      "execution_count": null,
      "outputs": []
    },
    {
      "cell_type": "code",
      "source": [
        "np.sum(a[a > 5])"
      ],
      "metadata": {
        "id": "NhO4jH5X7Kwh"
      },
      "execution_count": null,
      "outputs": []
    },
    {
      "cell_type": "code",
      "source": [
        "a[a>5]=0"
      ],
      "metadata": {
        "id": "Y6jghFXs7M2z"
      },
      "execution_count": null,
      "outputs": []
    },
    {
      "cell_type": "code",
      "source": [
        "a"
      ],
      "metadata": {
        "id": "CR_vnauJ7Zjh"
      },
      "execution_count": null,
      "outputs": []
    },
    {
      "cell_type": "code",
      "source": [
        "A = np.random.randn(8,2)"
      ],
      "metadata": {
        "id": "g8EEXiBX7bzL"
      },
      "execution_count": null,
      "outputs": []
    },
    {
      "cell_type": "code",
      "source": [
        "A"
      ],
      "metadata": {
        "id": "6ozPN5KA7mk0"
      },
      "execution_count": null,
      "outputs": []
    },
    {
      "cell_type": "code",
      "source": [
        "A.sum()"
      ],
      "metadata": {
        "id": "skcARR1p7mzq"
      },
      "execution_count": null,
      "outputs": []
    },
    {
      "cell_type": "code",
      "source": [
        "A.sum(axis=0)"
      ],
      "metadata": {
        "id": "uKbw790L7oQ6"
      },
      "execution_count": null,
      "outputs": []
    },
    {
      "cell_type": "code",
      "source": [
        "A.sum(axis=1)"
      ],
      "metadata": {
        "id": "avvORya47qWy"
      },
      "execution_count": null,
      "outputs": []
    },
    {
      "cell_type": "code",
      "source": [
        "A.reshape(4,4)"
      ],
      "metadata": {
        "id": "Fi8D7inD7tdN"
      },
      "execution_count": null,
      "outputs": []
    },
    {
      "cell_type": "code",
      "source": [
        "A.reshape(4,-1) #-1 que numpy infiera"
      ],
      "metadata": {
        "id": "3n7Kt8CJ72AK"
      },
      "execution_count": null,
      "outputs": []
    },
    {
      "cell_type": "code",
      "source": [],
      "metadata": {
        "id": "oVrcR6uX8FEh"
      },
      "execution_count": null,
      "outputs": []
    }
  ]
}