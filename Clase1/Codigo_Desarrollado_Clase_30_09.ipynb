{
  "cells": [
    {
      "cell_type": "code",
      "execution_count": null,
      "metadata": {
        "id": "ioEz8zkewcau"
      },
      "outputs": [],
      "source": [
        "print(\"Hello World\")"
      ]
    },
    {
      "cell_type": "code",
      "execution_count": null,
      "metadata": {
        "id": "hOjI7Qxm0x9a"
      },
      "outputs": [],
      "source": [
        "type(5)"
      ]
    },
    {
      "cell_type": "code",
      "execution_count": null,
      "metadata": {
        "id": "qWjtR8dk1jbB"
      },
      "outputs": [],
      "source": [
        "type(3.27)"
      ]
    },
    {
      "cell_type": "code",
      "execution_count": null,
      "metadata": {
        "id": "UXJdW5q61pxK"
      },
      "outputs": [],
      "source": [
        "type(True)"
      ]
    },
    {
      "cell_type": "code",
      "execution_count": null,
      "metadata": {
        "id": "3j6k2TOT1vzc"
      },
      "outputs": [],
      "source": [
        "type(False)"
      ]
    },
    {
      "cell_type": "code",
      "execution_count": null,
      "metadata": {
        "id": "daY90Zhb1wh2"
      },
      "outputs": [],
      "source": [
        "type(None)"
      ]
    },
    {
      "cell_type": "code",
      "execution_count": null,
      "metadata": {
        "id": "eGxTniJ116T1"
      },
      "outputs": [],
      "source": [
        "type(\"2\")"
      ]
    },
    {
      "cell_type": "code",
      "execution_count": null,
      "metadata": {
        "id": "xpQWrK9H2CXN"
      },
      "outputs": [],
      "source": [
        "float(5) #cast"
      ]
    },
    {
      "cell_type": "code",
      "execution_count": null,
      "metadata": {
        "id": "D5cJjqjW2Rk4"
      },
      "outputs": [],
      "source": [
        "int(3.9) #cast con perdida de informacion"
      ]
    },
    {
      "cell_type": "code",
      "execution_count": null,
      "metadata": {
        "id": "UnGYuOEY2XWL"
      },
      "outputs": [],
      "source": [
        "int(\"123\") #convierte la cadena"
      ]
    },
    {
      "cell_type": "markdown",
      "metadata": {
        "id": "diQn61K63MSJ"
      },
      "source": [
        "### Asignación"
      ]
    },
    {
      "cell_type": "code",
      "execution_count": null,
      "metadata": {
        "id": "YVdMG0tR2aLl"
      },
      "outputs": [],
      "source": [
        "pi = 3.14159"
      ]
    },
    {
      "cell_type": "code",
      "execution_count": null,
      "metadata": {
        "id": "4Nv6FAZD3Sgg"
      },
      "outputs": [],
      "source": [
        "pi_aprox = 22/7"
      ]
    },
    {
      "cell_type": "code",
      "execution_count": null,
      "metadata": {
        "id": "C1sR9k5I3UyE"
      },
      "outputs": [],
      "source": [
        "pi"
      ]
    },
    {
      "cell_type": "code",
      "execution_count": null,
      "metadata": {
        "id": "KBE52pvZ3Wmx"
      },
      "outputs": [],
      "source": [
        "pi_aprox*2"
      ]
    },
    {
      "cell_type": "code",
      "execution_count": null,
      "metadata": {
        "id": "4Y0RUuSI3XzK"
      },
      "outputs": [],
      "source": [
        "a = 5\n",
        "a = \"hola\"\n",
        "del a"
      ]
    },
    {
      "cell_type": "code",
      "execution_count": null,
      "metadata": {
        "id": "MlmNsym53fuE"
      },
      "outputs": [],
      "source": [
        "a = 5 #los nombres son sensibles a la diferencia de mayusculas/minusculas\n",
        "A = 6"
      ]
    },
    {
      "cell_type": "code",
      "execution_count": null,
      "metadata": {
        "id": "ryVggVx44scE"
      },
      "outputs": [],
      "source": [
        "a"
      ]
    },
    {
      "cell_type": "code",
      "execution_count": null,
      "metadata": {
        "id": "okC7J6ws4s4u"
      },
      "outputs": [],
      "source": [
        "A"
      ]
    },
    {
      "cell_type": "code",
      "execution_count": null,
      "metadata": {
        "id": "495K95gS4tis"
      },
      "outputs": [],
      "source": [
        "print(\"hola mundo\")"
      ]
    },
    {
      "cell_type": "code",
      "execution_count": null,
      "metadata": {
        "id": "e-kObAjY44v3"
      },
      "outputs": [],
      "source": [
        "print(\"hola\", \"mundo\", \"!\")"
      ]
    },
    {
      "cell_type": "code",
      "execution_count": null,
      "metadata": {
        "id": "9x2NHSWt48BK"
      },
      "outputs": [],
      "source": [
        "print(\"hola\", 3, 4.5, True, \"mundo\", \"!\")"
      ]
    },
    {
      "cell_type": "code",
      "execution_count": 1,
      "metadata": {
        "id": "zPbV2R6i4-0E"
      },
      "outputs": [],
      "source": [
        "nombre = input(\"Nombre:\")"
      ]
    },
    {
      "cell_type": "code",
      "execution_count": null,
      "metadata": {
        "id": "xFbM8U0d5EFY"
      },
      "outputs": [],
      "source": [
        "#nombre"
      ]
    },
    {
      "cell_type": "code",
      "execution_count": null,
      "metadata": {
        "id": "06QDMZQK5Hab"
      },
      "outputs": [],
      "source": [
        "#a = int(input())"
      ]
    },
    {
      "cell_type": "code",
      "execution_count": null,
      "metadata": {
        "id": "MyKJzyjZ5ee2"
      },
      "outputs": [],
      "source": [
        "i = 3\n",
        "j = 4"
      ]
    },
    {
      "cell_type": "code",
      "execution_count": null,
      "metadata": {
        "id": "k7bi03wP6rOk"
      },
      "outputs": [],
      "source": [
        "type(i > j)"
      ]
    },
    {
      "cell_type": "code",
      "execution_count": null,
      "metadata": {
        "id": "1gSaIOs56twr"
      },
      "outputs": [],
      "source": [
        "i >= j"
      ]
    },
    {
      "cell_type": "code",
      "execution_count": null,
      "metadata": {
        "id": "3gqkDtft6u1M"
      },
      "outputs": [],
      "source": [
        "i < j"
      ]
    },
    {
      "cell_type": "code",
      "execution_count": null,
      "metadata": {
        "id": "c9b9wYWh6v4m"
      },
      "outputs": [],
      "source": [
        "i <= j"
      ]
    },
    {
      "cell_type": "code",
      "execution_count": null,
      "metadata": {
        "id": "4OfwSTUr6wwa"
      },
      "outputs": [],
      "source": [
        "i == j #diferente de la asignación"
      ]
    },
    {
      "cell_type": "code",
      "execution_count": null,
      "metadata": {
        "id": "vQ5r4vRp6xa0"
      },
      "outputs": [],
      "source": [
        "i != j"
      ]
    },
    {
      "cell_type": "code",
      "execution_count": null,
      "metadata": {
        "id": "F2WN36O660YM"
      },
      "outputs": [],
      "source": [
        "a = 5\n",
        "a += 1\n",
        "print(a)"
      ]
    },
    {
      "cell_type": "code",
      "execution_count": null,
      "metadata": {
        "id": "P4Lc5guG7Vmt"
      },
      "outputs": [],
      "source": [
        "a = 5\n",
        "a += 1\n",
        "a **= 2\n",
        "a = a + 4\n",
        "a //= 10\n",
        "a -= 1\n",
        "print(a)"
      ]
    },
    {
      "cell_type": "code",
      "execution_count": null,
      "metadata": {
        "id": "0aP2_Dgp7tK3"
      },
      "outputs": [],
      "source": [
        "nombre = \"pablo\"\n",
        "saludos = \"hola \" + nombre #concatenacion"
      ]
    },
    {
      "cell_type": "code",
      "execution_count": null,
      "metadata": {
        "id": "0h63HULx8JT6"
      },
      "outputs": [],
      "source": [
        "print(saludos)"
      ]
    },
    {
      "cell_type": "code",
      "execution_count": null,
      "metadata": {
        "id": "DtPilpqN8Kjr"
      },
      "outputs": [],
      "source": [
        "\"11\" + \"11\""
      ]
    },
    {
      "cell_type": "code",
      "execution_count": null,
      "metadata": {
        "id": "oQbnIcyM8PhX"
      },
      "outputs": [],
      "source": [
        "\"11\"*3"
      ]
    },
    {
      "cell_type": "code",
      "execution_count": null,
      "metadata": {
        "id": "HNGEllPM8Q_Y"
      },
      "outputs": [],
      "source": [
        "\"hola\" * 4"
      ]
    },
    {
      "cell_type": "code",
      "execution_count": null,
      "metadata": {
        "id": "BKuO--c58TC4"
      },
      "outputs": [],
      "source": [
        "texto = 'I\\'m Pablo'"
      ]
    },
    {
      "cell_type": "code",
      "execution_count": null,
      "metadata": {
        "id": "AFD615Yg8fGf"
      },
      "outputs": [],
      "source": [
        "texto = \"hola \\\"hola\\\"\""
      ]
    },
    {
      "cell_type": "code",
      "execution_count": null,
      "metadata": {
        "id": "km19V8Yi8i5V"
      },
      "outputs": [],
      "source": [
        "texto"
      ]
    },
    {
      "cell_type": "code",
      "execution_count": null,
      "metadata": {
        "id": "gPzA8s8G8jom"
      },
      "outputs": [],
      "source": [
        "texto = \"\"\"\n",
        "eseta es una\n",
        "cadena\n",
        "multilinea\n",
        "\n",
        "\"\"\"\n",
        "print(texto)"
      ]
    },
    {
      "cell_type": "code",
      "execution_count": null,
      "metadata": {
        "id": "mwoDjukZ80eu"
      },
      "outputs": [],
      "source": [
        "texto = '''\n",
        "eseta es una\n",
        "cadena\n",
        "multilinea fgdf\n",
        "\n",
        "'''\n",
        "print(texto)"
      ]
    },
    {
      "cell_type": "markdown",
      "metadata": {
        "id": "RXH2ZIm_9B_z"
      },
      "source": [
        "### Operadores lógicos"
      ]
    },
    {
      "cell_type": "code",
      "execution_count": null,
      "metadata": {
        "id": "5KMkvaCH83yF"
      },
      "outputs": [],
      "source": [
        "a = True\n",
        "b = False"
      ]
    },
    {
      "cell_type": "code",
      "execution_count": null,
      "metadata": {
        "id": "lqoW0rVB-PXh"
      },
      "outputs": [],
      "source": [
        "not a"
      ]
    },
    {
      "cell_type": "code",
      "execution_count": null,
      "metadata": {
        "id": "RjXGYACA-Qf5"
      },
      "outputs": [],
      "source": [
        "not b"
      ]
    },
    {
      "cell_type": "code",
      "execution_count": null,
      "metadata": {
        "id": "wVrhkFhh-Szi"
      },
      "outputs": [],
      "source": [
        "a and b"
      ]
    },
    {
      "cell_type": "code",
      "execution_count": null,
      "metadata": {
        "id": "MxhLYT8V-UWh"
      },
      "outputs": [],
      "source": [
        "a or b"
      ]
    },
    {
      "cell_type": "code",
      "execution_count": null,
      "metadata": {
        "id": "H2UgbRRE-W5m"
      },
      "outputs": [],
      "source": [
        "h = int(input())\n",
        "\n",
        "if h < 12:\n",
        "  print(\"Buenos dias\")\n",
        "\n",
        "if h >= 12:\n",
        "  print(\"Buenas tardes\")"
      ]
    },
    {
      "cell_type": "code",
      "execution_count": null,
      "metadata": {
        "id": "g4Koj08Y_SBk"
      },
      "outputs": [],
      "source": [
        "h = int(input())\n",
        "\n",
        "if h < 12:\n",
        "  print(\"Buenos dias\")\n",
        "else:\n",
        "  print(\"Buenas tardes\")"
      ]
    },
    {
      "cell_type": "code",
      "execution_count": null,
      "metadata": {
        "id": "ai2hkwJaAVO4"
      },
      "outputs": [],
      "source": [
        "h = int(input())\n",
        "\n",
        "if h < 12:\n",
        "  print(\"Buenos dias\")\n",
        "elif h<19:\n",
        "  print(\"Buenas tardes\")\n",
        "else:\n",
        "  print(\"Buenas noches\")"
      ]
    },
    {
      "cell_type": "code",
      "execution_count": null,
      "metadata": {
        "id": "qXVgY4AMAd6u"
      },
      "outputs": [],
      "source": [
        "h is not None #chequear que no es nulo"
      ]
    },
    {
      "cell_type": "code",
      "execution_count": null,
      "metadata": {
        "id": "ao0HRrUaAw9T"
      },
      "outputs": [],
      "source": []
    },
    {
      "cell_type": "markdown",
      "metadata": {
        "id": "KSWR4XAtC7z_"
      },
      "source": [
        "## LISTA DE EJERCICIOS 1"
      ]
    },
    {
      "cell_type": "markdown",
      "metadata": {
        "id": "rE9oi43XC-Fo"
      },
      "source": [
        "#### Ejercicio 5"
      ]
    },
    {
      "cell_type": "code",
      "execution_count": null,
      "metadata": {
        "id": "MvqKgk5jC9u1"
      },
      "outputs": [],
      "source": [
        "#%%writefile E5.py\n",
        "n = str(input())\n",
        "col = n[0]\n",
        "num = int(n[1])\n",
        "\n",
        "if col == 'a' or col == 'c' or col == 'e' or col == 'g':\n",
        "  if num % 2 == 0:\n",
        "    print('blanco')\n",
        "  else:\n",
        "    print('negro')\n",
        "else:\n",
        "  if num % 2 == 0:\n",
        "    print('negro')\n",
        "  else:\n",
        "    print('blanco')"
      ]
    },
    {
      "cell_type": "code",
      "execution_count": null,
      "metadata": {
        "id": "CvbMSKzxDziA"
      },
      "outputs": [],
      "source": [
        "ord('h')"
      ]
    },
    {
      "cell_type": "code",
      "execution_count": null,
      "metadata": {
        "id": "Jh5hgodpF0Ls"
      },
      "outputs": [],
      "source": []
    }
  ],
  "metadata": {
    "colab": {
      "private_outputs": true,
      "provenance": []
    },
    "kernelspec": {
      "display_name": "Python 3",
      "name": "python3"
    },
    "language_info": {
      "codemirror_mode": {
        "name": "ipython",
        "version": 3
      },
      "file_extension": ".py",
      "mimetype": "text/x-python",
      "name": "python",
      "nbconvert_exporter": "python",
      "pygments_lexer": "ipython3",
      "version": "3.10.11"
    }
  },
  "nbformat": 4,
  "nbformat_minor": 0
}
